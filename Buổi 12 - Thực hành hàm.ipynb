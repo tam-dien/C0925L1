{
 "cells": [
  {
   "cell_type": "markdown",
   "id": "028ffec3",
   "metadata": {},
   "source": [
    "# Thực hành hàm\n",
    "\n",
    "### Bài 1\n",
    "\n",
    "Viết hàm có dữ liệu đầu vào là 2 số a và b, số nào lớn hơn thì in bảng cửu chương của số đó"
   ]
  },
  {
   "cell_type": "code",
   "execution_count": 2,
   "id": "1974966b",
   "metadata": {},
   "outputs": [
    {
     "name": "stdout",
     "output_type": "stream",
     "text": [
      "20 x 1 = 20\n",
      "20 x 2 = 40\n",
      "20 x 3 = 60\n",
      "20 x 4 = 80\n",
      "20 x 5 = 100\n",
      "20 x 6 = 120\n",
      "20 x 7 = 140\n",
      "20 x 8 = 160\n",
      "20 x 9 = 180\n"
     ]
    }
   ],
   "source": [
    "def in_bang_cuu_chuong(a, b):\n",
    "    if a > b:\n",
    "        a, b = b, a\n",
    "    \n",
    "    for i in range(1, 10):\n",
    "        print(b, \"x\", i, \"=\", b*i)\n",
    "\n",
    "in_bang_cuu_chuong(20, 15)"
   ]
  },
  {
   "cell_type": "markdown",
   "id": "9de8ffaa",
   "metadata": {},
   "source": [
    "### Bài 2\n",
    "\n",
    "Viết hàm `xoachuoi` có dữ liệu đầu vào là 2 chuỗi a và b, hãy tìm trong chuỗi a có chuỗi b hay không, nếu có hãy xóa toán bộ chuỗi b trong a.\n",
    "\n",
    "Sau đó trả về chuỗi a mới\n",
    "\n",
    "Ví dụ:\n",
    "\n",
    "chuoi1 = \"xin chào các bạn, các bạn có khỏe không?\"\n",
    "\n",
    "chuoi2 = \"các bạn\"\n",
    "\n",
    "chuoi3 = xoachuoi(chuoi1,chuoi2)\n",
    "\n",
    "print(chuoi3)\n",
    "\n",
    "Kết quả in ra là:\n",
    "xin chào ,  có khỏe không"
   ]
  },
  {
   "cell_type": "code",
   "execution_count": 3,
   "id": "05de1584",
   "metadata": {},
   "outputs": [
    {
     "name": "stdout",
     "output_type": "stream",
     "text": [
      "xin chào ,  có khoẻ không\n"
     ]
    }
   ],
   "source": [
    "def xoa_chuoi(a, b):\n",
    "    return a.replace(b, \"\")\n",
    "\n",
    "print(xoa_chuoi(\"xin chào các bạn, các bạn có khoẻ không\", \"các bạn\"))"
   ]
  },
  {
   "cell_type": "markdown",
   "id": "d626394e",
   "metadata": {},
   "source": [
    "### Bài 3\n",
    "\n",
    "Viết hàm `kiemtramatkhau` với dữ liệu đầu vào là 1 chuỗi có công dụng như sau:\n",
    "\n",
    "Kiểm tra xem chuỗi đầu vào có phải là mật khẩu mạnh hay không, nếu có trả về True, nếu không trả về False\n",
    "\n",
    "Mật khẩu mạnh là mật khẩu phải có ít nhất 1 chữ hoa, 1 chữ thường, 1 số và 1 ký tự đặc biệt"
   ]
  },
  {
   "cell_type": "code",
   "execution_count": 5,
   "id": "875d88f5",
   "metadata": {},
   "outputs": [
    {
     "name": "stdout",
     "output_type": "stream",
     "text": [
      "True\n",
      "False\n",
      "False\n",
      "False\n"
     ]
    }
   ],
   "source": [
    "def kiem_tra_strong_mk(mat_khau):\n",
    "    co_hoa = False\n",
    "    co_thuong = False\n",
    "    co_dac_biet = False\n",
    "    co_so = False\n",
    "\n",
    "    for ky_tu in mat_khau:\n",
    "        if ky_tu.isupper():\n",
    "            co_hoa = True\n",
    "        elif ky_tu.islower():\n",
    "            co_thuong = True\n",
    "        elif ky_tu.isnumeric():\n",
    "            co_so = True\n",
    "        else:\n",
    "            co_dac_biet = True\n",
    "        if co_hoa and co_thuong and co_so and co_dac_biet:\n",
    "            return True\n",
    "    return False\n",
    "\n",
    "print(kiem_tra_strong_mk(\"aksjdSKDSK@23s\")) ## True\n",
    "print(kiem_tra_strong_mk(\"aksjdsds@23s\")) ## False\n",
    "print(kiem_tra_strong_mk(\"aksjdSKDSK23s\")) ## False\n",
    "print(kiem_tra_strong_mk(\"aksjdSKDSK@s\")) ## False"
   ]
  },
  {
   "cell_type": "code",
   "execution_count": 9,
   "id": "e3e950ae",
   "metadata": {},
   "outputs": [
    {
     "name": "stdout",
     "output_type": "stream",
     "text": [
      "True\n",
      "False\n",
      "False\n"
     ]
    }
   ],
   "source": [
    "chuoi = \"Ⅱ\"\n",
    "\n",
    "print(chuoi.isnumeric())\n",
    "print(chuoi.isdigit())\n",
    "print(chuoi.isdecimal())"
   ]
  },
  {
   "cell_type": "markdown",
   "id": "1572568f",
   "metadata": {},
   "source": [
    "### Bài 4\n",
    "\n",
    "Viết hàm có 5 dữ liệu đầu vào là 5 số nguyên, tìm giá trị lớn nhì trong 5 số đó"
   ]
  },
  {
   "cell_type": "code",
   "execution_count": 2,
   "id": "876707ae",
   "metadata": {},
   "outputs": [
    {
     "name": "stdout",
     "output_type": "stream",
     "text": [
      "15\n",
      "29\n"
     ]
    }
   ],
   "source": [
    "def tim_so_lon_nhi(a, b, c, d, e):\n",
    "    if a < b:\n",
    "        a, b = b, a\n",
    "    if a < c:\n",
    "        a, c = c, a\n",
    "    if a < d:\n",
    "        a, d = d, a\n",
    "    if a < e:\n",
    "        a, e = e, a\n",
    "    \n",
    "    if b < c:\n",
    "        b, c = c, b\n",
    "    if b < d:\n",
    "        b, d = d, b\n",
    "    if b < e:\n",
    "        b, e = e, b\n",
    "\n",
    "    return b\n",
    "\n",
    "print(tim_so_lon_nhi(7, 10, 15, 29, 12))\n",
    "print(tim_so_lon_nhi(7, 29, 15, 29, 12))"
   ]
  },
  {
   "cell_type": "code",
   "execution_count": null,
   "id": "d02d5e2d",
   "metadata": {},
   "outputs": [
    {
     "name": "stdout",
     "output_type": "stream",
     "text": [
      "-10 None None\n",
      "-12 -10 None\n",
      "-7 -10 -12\n",
      "-12 -7 -10\n",
      "-15 -7 -10\n",
      "-10\n",
      "7 None None\n",
      "10 7 None\n",
      "15 10 7\n",
      "29 15 10\n",
      "12 29 15\n",
      "15\n",
      "7 None None\n",
      "29 7 None\n",
      "15 29 7\n",
      "29 29 15\n",
      "12 29 15\n",
      "15\n"
     ]
    }
   ],
   "source": [
    "def max_nhi(a, b, c, d, e):\n",
    "    numbers = [a, b, c, d, e]\n",
    "    max1 = None\n",
    "    max2 = None\n",
    "    for num in numbers:\n",
    "        if max1 is None or num > max1:\n",
    "            max2 = max1\n",
    "            max1 = num\n",
    "        elif (max2 is None or num > max2) and num < max1:\n",
    "            max2 = num\n",
    "    return max2\n",
    "\n",
    "print(max_nhi(-10, -12, -7, -12, -15))\n",
    "print(max_nhi(7, 10, 15, 29, 12))\n",
    "print(max_nhi(7, 29, 15, 29, 12))"
   ]
  },
  {
   "cell_type": "markdown",
   "id": "974d7da1",
   "metadata": {},
   "source": [
    "### Bài 5\n",
    "\n",
    "Nhập vào 2 cặp tọa độ tâm đường tròn và 2 bán kính R\n",
    "\n",
    "Hãy vẽ 2 hình tròn theo tọa độ và bán kính trên (tọa độ thứ nhất và bán kính thứ nhất là hình tròn thứ nhất, tọa độ thứ 2 với bán kính thứ 2 là hình tròn thứ hai)\n",
    "\n",
    "Viết hàm kiểm tra xem 2 hình tròn trên cắt nhau bao nhiêu điểm"
   ]
  },
  {
   "cell_type": "code",
   "execution_count": null,
   "id": "f7722021",
   "metadata": {},
   "outputs": [],
   "source": []
  },
  {
   "cell_type": "markdown",
   "id": "a2157de8",
   "metadata": {},
   "source": [
    "### Bài 6\n",
    "\n",
    "Nhập vào 2 tọa độ là 2 đỉnh của một hình chữ nhật\n",
    "\n",
    "Sau đó\n",
    "\n",
    "Nhập vào tọa độ tâm đường tròn và bán kính R\n",
    "\n",
    "Hãy vẽ hình hình chữ nhật và đường tròn trên\n",
    "\n",
    "Viết hàm kiểm tra xem đường tròn trên và hình chữ nhật cắt nhau tại bao nhiêu điểm"
   ]
  },
  {
   "cell_type": "code",
   "execution_count": null,
   "id": "e0d7b1a2",
   "metadata": {},
   "outputs": [],
   "source": []
  },
  {
   "cell_type": "markdown",
   "id": "d1491579",
   "metadata": {},
   "source": [
    "### Bài 7\n",
    "\n",
    "Viết hàm kiểm tra số nguyên tố\n",
    "\n",
    "Viết hàm kiểm tra số hoàn hảo\n",
    "\n",
    "Viết hàm kiểm tra số chính phương\n",
    "\n",
    "Viết hàm kiểm tra số Armstrong\n",
    "\n",
    "Nhập vào một chuỗi, hãy lọc và tìm ra những số ở trong chuỗi (2 chữ số liền nhau là một chuỗi)\n",
    "\n",
    "Ví dụ chuỗi: \"AB25SDc5DSjjh52\"\n",
    "\n",
    "Trong chuỗi này ta có 3 số: 25, 5 và 52\n",
    "\n",
    "Sau khi lọc số, dùng các hàm trên để kiểm tra và thực hiện như sau:\n",
    "\n",
    "Cho biến S\n",
    "\n",
    "- Nếu số đó là số nguyên tố, ta thực hiện S += số đó\n",
    "- Nếu số đó là số hoàn hảo, ta thực hiện S -= số đó\n",
    "- Nếu số đó là số chính phương, ta thực hiện S /= số đó\n",
    "- Nếu đó là số Armstrong ta cho S = 0\n",
    "\n",
    "Hãy tính và in S"
   ]
  },
  {
   "cell_type": "code",
   "execution_count": 36,
   "id": "0b699e33",
   "metadata": {},
   "outputs": [
    {
     "name": "stdout",
     "output_type": "stream",
     "text": [
      "17\n"
     ]
    }
   ],
   "source": [
    "def so_nguyen_to(n):\n",
    "    if n < 2:\n",
    "        return False\n",
    "    for i in range(2, int(n//2) + 1):\n",
    "        if n % i == 0:\n",
    "            return False\n",
    "    return True\n",
    "\n",
    "def so_hoan_hao(a):\n",
    "    tong = 1\n",
    "    for i in range(2, a):\n",
    "        if a % i == 0:\n",
    "            tong += i\n",
    "\n",
    "    return tong == a\n",
    "\n",
    "def so_chinh_phuong(a):\n",
    "    can_a = a**0.5\n",
    "    return int(can_a) == can_a\n",
    "\n",
    "def armstrong(a):\n",
    "    so_luong_chu_so = len(str(a))\n",
    "    a0 = a\n",
    "    tong = 0\n",
    "    while a > 0:\n",
    "        b = a % 10\n",
    "        a //= 10\n",
    "        tong += b**so_luong_chu_so\n",
    "    return tong == a0\n",
    "\n",
    "def main(chuoi):\n",
    "    chuoi_tam = \"\"\n",
    "    chuoi += \"a\"\n",
    "    S = 0\n",
    "    for ky_tu in chuoi:\n",
    "        if ky_tu.isnumeric():\n",
    "            chuoi_tam += ky_tu\n",
    "        elif chuoi_tam != \"\":\n",
    "            so = int(chuoi_tam)\n",
    "            if so_nguyen_to(so):\n",
    "                S += so\n",
    "            if so_hoan_hao(so):\n",
    "                S -= so\n",
    "            if so_chinh_phuong(so):\n",
    "                S /= so\n",
    "            if armstrong(so):\n",
    "                S = 0\n",
    "            chuoi_tam = \"\"\n",
    "    return S\n",
    "\n",
    "print(main(\"AB25SDc5DSjjh52fkdsjf17\"))"
   ]
  }
 ],
 "metadata": {
  "kernelspec": {
   "display_name": "linhtinh",
   "language": "python",
   "name": "python3"
  },
  "language_info": {
   "codemirror_mode": {
    "name": "ipython",
    "version": 3
   },
   "file_extension": ".py",
   "mimetype": "text/x-python",
   "name": "python",
   "nbconvert_exporter": "python",
   "pygments_lexer": "ipython3",
   "version": "3.12.11"
  }
 },
 "nbformat": 4,
 "nbformat_minor": 5
}
