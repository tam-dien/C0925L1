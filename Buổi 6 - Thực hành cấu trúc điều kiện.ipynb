{
 "cells": [
  {
   "cell_type": "markdown",
   "id": "dcdb816e",
   "metadata": {},
   "source": [
    "# Thực hành cấu trúc điều khiển\n",
    "\n",
    "### Bài 1\n",
    "\n",
    "Cho phương trình bậc 2: ax^2 + bx + c = 0\n",
    "\n",
    "Nhập a, b, c\n",
    "\n",
    "Giải và biện luận phương trình trên"
   ]
  },
  {
   "cell_type": "code",
   "execution_count": null,
   "id": "b5a5c325",
   "metadata": {},
   "outputs": [],
   "source": [
    "a = float(input('Nhập hệ số a: '))\n",
    "b = float(input('Nhập hệ số b: '))\n",
    "c = float(input('Nhập hệ số c: '))\n",
    "\n",
    "if a == 0:\n",
    "    # Trường hợp phương trình là bậc nhất hoặc vô nghiệm/vô số nghiệm\n",
    "    if b == 0:\n",
    "        if c == 0:\n",
    "            print(\"Phương trình vô số nghiệm.\")\n",
    "        else:\n",
    "            print(\"Phương trình vô nghiệm.\")\n",
    "    else:\n",
    "        # Phương trình bậc nhất bx + c = 0\n",
    "        x = -c / b\n",
    "        print(f\"Phương trình có một nghiệm x = {x}\")\n",
    "else:\n",
    "    # Phương trình bậc hai\n",
    "    delta = b**2 - 4*a*c\n",
    "    if delta > 0:\n",
    "        x1 = (-b + delta**0.5) / (2*a)\n",
    "        x2 = (-b - delta**0.5) / (2*a)\n",
    "        print(f\"Phương trình có hai nghiệm phân biệt: x1 = {x1}, x2 = {x2}\")\n",
    "    elif delta == 0:\n",
    "        x = -b / (2*a)\n",
    "        print(\"Phương trình có nghiệm kép: x = {x}\")\n",
    "    else:\n",
    "        print(\"Phương trình vô nghiệm thực.\")"
   ]
  },
  {
   "cell_type": "code",
   "execution_count": null,
   "id": "a8d70c17",
   "metadata": {},
   "outputs": [],
   "source": [
    "### ax^2 + bx + c = 0\n",
    "#### nếu a = 0 ~~> bx + c = 0\n",
    "###### nếu b = 0 ~~> c = 0\n",
    "######### c = 0 (nếu c là số khác 0 ~~> phương trình vô nghiệm)\n",
    "######### c = 0 (nếu c là số bằng 0 ~~> phương trình vô số nghiệm)"
   ]
  },
  {
   "cell_type": "markdown",
   "id": "6f7d329d",
   "metadata": {},
   "source": [
    "### Bài 2\n",
    "\n",
    "Hãy nhập vào một số\n",
    "\n",
    "Xác định coi đó có phải là số nguyên tố hay không"
   ]
  },
  {
   "cell_type": "code",
   "execution_count": 11,
   "id": "049c85f5",
   "metadata": {},
   "outputs": [
    {
     "name": "stdout",
     "output_type": "stream",
     "text": [
      "6 không là số nguyên tố\n"
     ]
    }
   ],
   "source": [
    "### giới hạn chỉ nhập số có 1 chữ số\n",
    "\n",
    "### các số nguyên tố có 1 chữ số là 2 3 5 7\n",
    "\n",
    "a = int(input(\"Nhập: \"))\n",
    "\n",
    "if a == 2 or a == 3 or a == 5 or a == 7:\n",
    "    print(a,\"là số nguyên tố\")\n",
    "else:\n",
    "    print(a,\"không là số nguyên tố\")"
   ]
  },
  {
   "cell_type": "markdown",
   "id": "75f7717b",
   "metadata": {},
   "source": [
    "### Bài 3\n",
    "\n",
    "Hãy nhập vào số n\n",
    "\n",
    "Hãy đếm số chữ số 0 tận cùng của n giai thừa\n",
    "\n",
    "(Bài này nâng cao, mọi người có thể bỏ qua)"
   ]
  },
  {
   "cell_type": "code",
   "execution_count": null,
   "id": "789e0e76",
   "metadata": {},
   "outputs": [],
   "source": []
  },
  {
   "cell_type": "markdown",
   "id": "29cd6c81",
   "metadata": {},
   "source": [
    "### Bài 4\n",
    "\n",
    "In ra tất cả các số chia hết cho 3 nhỏ hơn 100"
   ]
  },
  {
   "cell_type": "code",
   "execution_count": null,
   "id": "0b848981",
   "metadata": {},
   "outputs": [],
   "source": [
    "### bỏ qua"
   ]
  },
  {
   "cell_type": "markdown",
   "id": "04dbf99b",
   "metadata": {},
   "source": [
    "### Bài 5\n",
    "\n",
    "In ra tất cả các số lẻ nhưng không chia hết cho 3 nhỏ hơn 100"
   ]
  },
  {
   "cell_type": "code",
   "execution_count": null,
   "id": "769eb439",
   "metadata": {},
   "outputs": [],
   "source": [
    "### bỏ qua"
   ]
  },
  {
   "cell_type": "markdown",
   "id": "26dd47fb",
   "metadata": {},
   "source": [
    "### Bài 5\n",
    "\n",
    "Tại một cửa hàng nọ có menu như sau:\n",
    "\n",
    "1. Gà rán giá 35k\n",
    "2. Hamburger giá 50k\n",
    "3. Pesi giá 10k\n",
    "\n",
    "Nhập số lượng món hàng cần mua\n",
    "\n",
    "Tính và in ra tổng giá tiền (hiển thị có dấu chấm mỗi 3 chữ số để người dùng để quan sát)\n",
    "\n",
    "Nếu giá trị đơn hàng trên 2 triệu, giảm 10% cho khách, trên 4 triệu, giảm 15%\n",
    "\n",
    "Tính và in ra tổng giá tiền được giảm (hiển thị có dấu chấm mỗi 3 chữ số để người dùng để quan sát)\n",
    "\n",
    "Tính và in ra tổng giá tiền khách cần trả (hiển thị có dấu chấm mỗi 3 chữ số để người dùng để quan sát)\n",
    "\n",
    "In ra dòng chữ \"Cảm ơn quý khách đã mua hàng\""
   ]
  },
  {
   "cell_type": "code",
   "execution_count": null,
   "id": "8509df1e",
   "metadata": {},
   "outputs": [],
   "source": []
  },
  {
   "cell_type": "markdown",
   "id": "ab10a1ce",
   "metadata": {},
   "source": [
    "### Bài 6\n",
    "\n",
    "Nhập vào chiều cao (cm) và cân nặng (kg), tính số BMI và xét rồi xin kết quả theo dữ liệu sau:\n",
    "\n",
    "- BMI < 16: Gầy cấp độ III\n",
    "- 16 <= BMI < 17:  Gầy cấp độ II\n",
    "- 17<= BMI < 18.5: Gầy cấp độ I\n",
    "- 18.5 <= BMI < 25: Bình thường\n",
    "- 25 <= BMI < 30: Thừa cân\n",
    "- 30 <= BMI < 35 : Béo phì cấp độ I\n",
    "- 35 <= BMI < 40: Béo phì cấp độ II\n",
    "- BMI > 40: Béo phì cấp độ III"
   ]
  },
  {
   "cell_type": "code",
   "execution_count": 13,
   "id": "1058f441",
   "metadata": {},
   "outputs": [
    {
     "name": "stdout",
     "output_type": "stream",
     "text": [
      "Chỉ số BMI của bạn là: 15.0\n",
      "Gầy cấp độ III\n"
     ]
    }
   ],
   "source": [
    "chieuCao = float(input(\"Nhập chiều cao của bạn (cm): \"))\n",
    "canNang = float(input(\"Nhập cân nặng của bạn (kg): \"))\n",
    "\n",
    "chieuCaoMet = chieuCao / 100\n",
    "bmi = canNang / (chieuCaoMet ** 2)\n",
    "\n",
    "print(\"Chỉ số BMI của bạn là:\", round(bmi, 1))\n",
    "\n",
    "if bmi < 16:\n",
    "    print(\"Gầy cấp độ III\")\n",
    "elif bmi < 17:\n",
    "    print(\"Gầy cấp độ II\")\n",
    "elif bmi < 18.5:\n",
    "    print(\"Gầy cấp độ I\")\n",
    "elif bmi < 25:\n",
    "    print(\"Bình thường\")\n",
    "elif bmi < 30:\n",
    "    print(\"Thừa cân\")\n",
    "elif bmi < 35:\n",
    "    print(\"Béo phì cấp độ I\")\n",
    "elif bmi < 40:\n",
    "    print(\"Béo phì cấp độ II\")\n",
    "else:\n",
    "    print(\"Béo phì cấp độ III\")\n"
   ]
  },
  {
   "cell_type": "markdown",
   "id": "f7620342",
   "metadata": {},
   "source": [
    "### Bài 7\n",
    "\n",
    "Nhập ngày, tháng, năm. Hãy tính và in ra màn hình kể từ đầu năm đến ngày vừa nhập là bao nhiêu ngày."
   ]
  },
  {
   "cell_type": "code",
   "execution_count": 17,
   "id": "4c57f0a5",
   "metadata": {},
   "outputs": [
    {
     "name": "stdout",
     "output_type": "stream",
     "text": [
      "1 1 1999\n",
      "1\n"
     ]
    }
   ],
   "source": [
    "ngay = int(input(\"Nhập vào ngày:\"))\n",
    "thang = int(input(\"Nhập vào tháng:\"))\n",
    "nam = int(input(\"Nhập vào năm:\"))\n",
    "\n",
    "### ngày 7 tháng 8\n",
    "### 1 2 3 4 5 6 7 + 7 ngày\n",
    "\n",
    "##### tháng có 31 ngày và tháng có 30 ngày\n",
    "##### y1 và y2\n",
    "\n",
    "##### x là thang\n",
    "\n",
    "##### x | y1 | y2\n",
    "##### 1 |  0 |  0\n",
    "##### 2 |  1 |  0\n",
    "##### 3 |  1 |  1\n",
    "##### 4 |  2 |  1\n",
    "##### 5 |  2 |  2\n",
    "##### 6 |  3 |  2\n",
    "##### 7 |  3 |  3\n",
    "##### 8 |  4 |  3\n",
    "##### 9 |  5 |  3\n",
    "##### 10|  5 |  4\n",
    "##### 11|  6 |  4\n",
    "##### 12|  6 |  5\n",
    "\n",
    "x = thang\n",
    "\n",
    "if thang <= 7:\n",
    "    y1 = x//2\n",
    "    y2 = (x - 1)//2\n",
    "else:\n",
    "    y1 = (x + 1)//2\n",
    "    y2 = (x - 2)//2\n",
    "\n",
    "so_ngay = y1*31 + y2*30 + ngay\n",
    "if thang > 2:\n",
    "    if nam % 4 == 0:\n",
    "        so_ngay -= 1\n",
    "    else:\n",
    "        so_ngay -= 2\n",
    "\n",
    "print(ngay, thang, nam)\n",
    "print(so_ngay)"
   ]
  }
 ],
 "metadata": {
  "kernelspec": {
   "display_name": "linhtinh",
   "language": "python",
   "name": "python3"
  },
  "language_info": {
   "codemirror_mode": {
    "name": "ipython",
    "version": 3
   },
   "file_extension": ".py",
   "mimetype": "text/x-python",
   "name": "python",
   "nbconvert_exporter": "python",
   "pygments_lexer": "ipython3",
   "version": "3.12.11"
  }
 },
 "nbformat": 4,
 "nbformat_minor": 5
}
