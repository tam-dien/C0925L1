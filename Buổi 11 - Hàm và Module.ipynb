{
 "cells": [
  {
   "cell_type": "markdown",
   "id": "73456e5e",
   "metadata": {},
   "source": [
    "# Hàm\n",
    "\n",
    "### Hàm\n",
    "\n",
    "Cú pháp:\n",
    "\n",
    "<pre>def &lt;tên hàm&gt;(&lt;tham số)&gt;:\n",
    "    //Nội dung hàm</pre>\n",
    "\n",
    "Gọi hàm:\n",
    "`<tên hàm>(<giá trị đầu vào>)`\n",
    "\n",
    "Ví dụ:\n",
    "\n",
    "Hãy viết 1 hàm số để tính tổng 2 số đầu vào và in nó ra màn hình"
   ]
  },
  {
   "cell_type": "code",
   "execution_count": 7,
   "id": "af5b9f6d",
   "metadata": {},
   "outputs": [
    {
     "name": "stdout",
     "output_type": "stream",
     "text": [
      "hello\n",
      "hi\n",
      "xin chào\n",
      "hello\n",
      "hi\n",
      "xin chào\n",
      "hello\n",
      "hi\n",
      "xin chào\n",
      "hello\n",
      "hi\n",
      "xin chào\n",
      "hello\n",
      "hi\n",
      "xin chào\n"
     ]
    }
   ],
   "source": [
    "def xin_chao():\n",
    "    print(\"hello\")\n",
    "    print(\"hi\")\n",
    "    print(\"xin chào\")\n",
    "\n",
    "for i in range(5):\n",
    "    xin_chao()"
   ]
  },
  {
   "cell_type": "code",
   "execution_count": 8,
   "id": "5c413b71",
   "metadata": {},
   "outputs": [
    {
     "name": "stdout",
     "output_type": "stream",
     "text": [
      "hello\n",
      "hi\n",
      "xin chào\n",
      "hello\n",
      "hi\n",
      "xin chào\n",
      "hello\n",
      "hi\n",
      "xin chào\n",
      "hello\n",
      "hi\n",
      "xin chào\n",
      "hello\n",
      "hi\n",
      "xin chào\n"
     ]
    }
   ],
   "source": [
    "for i in range(5):\n",
    "    print(\"hello\")\n",
    "    print(\"hi\")\n",
    "    print(\"xin chào\")"
   ]
  },
  {
   "cell_type": "code",
   "execution_count": null,
   "id": "64b90fac",
   "metadata": {},
   "outputs": [],
   "source": [
    "# Tại một cửa hàng nọ có menu như sau:\n",
    "\n",
    "# 1. Gà rán giá 35k\n",
    "# 2. Hamburger giá 50k\n",
    "# 3. Pesi giá 10k\n",
    "\n",
    "### In ra menu + lời chào của cửa hàng\n",
    "\n",
    "# Nhập số lượng món hàng cần mua\n",
    "\n",
    "# Tính và in ra tổng giá tiền (hiển thị có dấu chấm mỗi 3 chữ số để người dùng để quan sát)\n",
    "\n",
    "# Nếu giá trị đơn hàng trên 2 triệu, giảm 10% cho khách, trên 4 triệu, giảm 15%\n",
    "\n",
    "# Tính và in ra tổng giá tiền được giảm (hiển thị có dấu chấm mỗi 3 chữ số để người dùng để quan sát)\n",
    "\n",
    "# Tính và in ra tổng giá tiền khách cần trả (hiển thị có dấu chấm mỗi 3 chữ số để người dùng để quan sát)\n",
    "\n",
    "### In ra menu + lời chào của cửa hàng\n",
    "\n",
    "# In ra dòng chữ \"Cảm ơn quý khách đã mua hàng\""
   ]
  },
  {
   "cell_type": "code",
   "execution_count": 12,
   "id": "2a66e2e2",
   "metadata": {},
   "outputs": [
    {
     "name": "stdout",
     "output_type": "stream",
     "text": [
      "--- Chào mừng bạn đến với cửa hàng gà rán ---\n",
      "Hamburger: 55k\n",
      "Gà rán: 35k\n",
      "Pesi: 10k\n",
      "Nhập vào số lượng hamburger: 5\n",
      "Nhập vào số lượng gà rán: 3\n",
      "Nhập vào số lượng pesi: 4\n",
      "--- Chào mừng bạn đến với cửa hàng gà rán ---\n",
      "Hamburger: 55k\n",
      "Gà rán: 35k\n",
      "Pesi: 10k\n"
     ]
    }
   ],
   "source": [
    "hamburger = 55000\n",
    "ga_ran = 35000\n",
    "pesi = 10000\n",
    "\n",
    "def in_menu():\n",
    "    print(\"--- Chào mừng bạn đến với cửa hàng gà rán ---\")\n",
    "    print(\"Hamburger: 55k\")\n",
    "    print(\"Gà rán: 35k\")\n",
    "    print(\"Pesi: 10k\")\n",
    "\n",
    "in_menu()\n",
    "\n",
    "sl_ham = int(input(\"Nhập vào số lượng hamburger:\"))\n",
    "print(\"Nhập vào số lượng hamburger:\", sl_ham)\n",
    "sl_ga_ran = int(input(\"Nhập vào số lượng gà rán:\"))\n",
    "print(\"Nhập vào số lượng gà rán:\", sl_ga_ran)\n",
    "sl_pesi = int(input(\"Nhập vào số lượng pesi:\"))\n",
    "print(\"Nhập vào số lượng pesi:\", sl_pesi)\n",
    "\n",
    "in_menu()"
   ]
  },
  {
   "cell_type": "code",
   "execution_count": null,
   "id": "c795eeb1",
   "metadata": {},
   "outputs": [
    {
     "name": "stdout",
     "output_type": "stream",
     "text": [
      "49\n",
      "100\n"
     ]
    }
   ],
   "source": [
    "def tinh_mu_2(a):\n",
    "    print(a**2)\n",
    "\n",
    "tinh_mu_2(7)\n",
    "tinh_mu_2(10)"
   ]
  },
  {
   "cell_type": "code",
   "execution_count": 23,
   "id": "f403c9cd",
   "metadata": {},
   "outputs": [
    {
     "ename": "TypeError",
     "evalue": "tinh_tong() missing 1 required positional argument: 'b'",
     "output_type": "error",
     "traceback": [
      "\u001b[31m---------------------------------------------------------------------------\u001b[39m",
      "\u001b[31mTypeError\u001b[39m                                 Traceback (most recent call last)",
      "\u001b[36mCell\u001b[39m\u001b[36m \u001b[39m\u001b[32mIn[23]\u001b[39m\u001b[32m, line 7\u001b[39m\n\u001b[32m      4\u001b[39m \u001b[38;5;28;01mdef\u001b[39;00m\u001b[38;5;250m \u001b[39m\u001b[34mtinh_tong\u001b[39m(a, b):\n\u001b[32m      5\u001b[39m     \u001b[38;5;28mprint\u001b[39m(a + b)\n\u001b[32m----> \u001b[39m\u001b[32m7\u001b[39m \u001b[43mtinh_tong\u001b[49m\u001b[43m(\u001b[49m\u001b[32;43m7\u001b[39;49m\u001b[43m)\u001b[49m\n\u001b[32m      8\u001b[39m tinh_tong(\u001b[32m7\u001b[39m, \u001b[32m5\u001b[39m)\n\u001b[32m      9\u001b[39m tinh_tong(\u001b[32m12\u001b[39m, \u001b[32m5\u001b[39m)\n",
      "\u001b[31mTypeError\u001b[39m: tinh_tong() missing 1 required positional argument: 'b'"
     ]
    }
   ],
   "source": [
    "### viết hàm tinh_tong có 2 tham số\n",
    "### in ra tổng của 2 tham số đó\n",
    "\n",
    "def tinh_tong(a, b):\n",
    "    print(a + b)\n",
    "\n",
    "tinh_tong(7)\n",
    "tinh_tong(7, 5)\n",
    "tinh_tong(12, 5)"
   ]
  },
  {
   "cell_type": "code",
   "execution_count": null,
   "id": "fd823c76",
   "metadata": {},
   "outputs": [
    {
     "name": "stdout",
     "output_type": "stream",
     "text": [
      "32\n",
      "17\n"
     ]
    }
   ],
   "source": [
    "def tinh_tong(a, b=10):\n",
    "    print(a + b)\n",
    "\n",
    "tinh_tong(12, 90)\n",
    "tinh_tong(7)"
   ]
  },
  {
   "cell_type": "code",
   "execution_count": 24,
   "id": "62da8846",
   "metadata": {},
   "outputs": [
    {
     "ename": "TypeError",
     "evalue": "tinh_tong() missing 1 required positional argument: 'a'",
     "output_type": "error",
     "traceback": [
      "\u001b[31m---------------------------------------------------------------------------\u001b[39m",
      "\u001b[31mTypeError\u001b[39m                                 Traceback (most recent call last)",
      "\u001b[36mCell\u001b[39m\u001b[36m \u001b[39m\u001b[32mIn[24]\u001b[39m\u001b[32m, line 4\u001b[39m\n\u001b[32m      1\u001b[39m \u001b[38;5;28;01mdef\u001b[39;00m\u001b[38;5;250m \u001b[39m\u001b[34mtinh_tong\u001b[39m(a, b=\u001b[32m10\u001b[39m):\n\u001b[32m      2\u001b[39m     \u001b[38;5;28mprint\u001b[39m(a + b)\n\u001b[32m----> \u001b[39m\u001b[32m4\u001b[39m \u001b[43mtinh_tong\u001b[49m\u001b[43m(\u001b[49m\u001b[43m)\u001b[49m\n",
      "\u001b[31mTypeError\u001b[39m: tinh_tong() missing 1 required positional argument: 'a'"
     ]
    }
   ],
   "source": [
    "def tinh_tong(a, b=10):\n",
    "    print(a + b)\n",
    "\n",
    "tinh_tong()"
   ]
  },
  {
   "cell_type": "code",
   "execution_count": 27,
   "id": "3acbcdad",
   "metadata": {},
   "outputs": [
    {
     "name": "stdout",
     "output_type": "stream",
     "text": [
      "32\n",
      "27\n",
      "28\n"
     ]
    }
   ],
   "source": [
    "def tinh_tong(a, b=15, c=10):\n",
    "    print(a + b + c)\n",
    "\n",
    "tinh_tong(7, 10, 15)\n",
    "tinh_tong(7, 10)\n",
    "tinh_tong(3)"
   ]
  },
  {
   "cell_type": "code",
   "execution_count": 35,
   "id": "eb366c94",
   "metadata": {},
   "outputs": [
    {
     "name": "stdout",
     "output_type": "stream",
     "text": [
      "7\n",
      "ket_qua: None\n"
     ]
    }
   ],
   "source": [
    "def tinh_tong(a, b):\n",
    "    print(a + b)\n",
    "\n",
    "ket_qua = tinh_tong(2, 5)\n",
    "print(\"ket_qua:\", ket_qua)"
   ]
  },
  {
   "cell_type": "markdown",
   "id": "a7c39f47",
   "metadata": {},
   "source": [
    "### Giá trị trả về của hàm\n",
    "\n",
    "# return\n",
    "\n",
    "Cú pháp:\n",
    "\n",
    "`retrun <giá trị trả về>`\n",
    "\n",
    "##### Lưu ý: Sau khi thực hiện lệnh return, chương trình sẽ thoát khỏi hàm ngay lập tức (những lệnh sau đó không được thực hiện)\n",
    "\n",
    "Ví dụ:\n",
    "\n",
    "Hãy viết 1 hàm trả về giá trị trung bình của 2 số bất kỳ"
   ]
  },
  {
   "cell_type": "code",
   "execution_count": 37,
   "id": "0b527b95",
   "metadata": {},
   "outputs": [
    {
     "name": "stdout",
     "output_type": "stream",
     "text": [
      "25\n"
     ]
    }
   ],
   "source": [
    "def tinh_tong(a, b):\n",
    "    return a + b\n",
    "\n",
    "ket_qua = tinh_tong(10, 15)\n",
    "print(ket_qua)"
   ]
  },
  {
   "cell_type": "code",
   "execution_count": 41,
   "id": "aea08b26",
   "metadata": {},
   "outputs": [
    {
     "name": "stdout",
     "output_type": "stream",
     "text": [
      "6\n",
      "None\n"
     ]
    }
   ],
   "source": [
    "def tri_tuyet_doi(a):\n",
    "    if a < 0:\n",
    "        print(a*-1)\n",
    "    else:\n",
    "        print(a)\n",
    "\n",
    "### nhập vào a và b, in ra \"tôi cách xa bạn lắm\" nếu khoảng cách giữa a và b\n",
    "### lớn hơn 10, ngược lại in ra \"tôi gần bạn lắm\"\n",
    "\n",
    "a = int(input(\"Nhập vào a:\"))\n",
    "b = int(input(\"Nhập vào b:\"))\n",
    "ket_qua = tri_tuyet_doi(a - b)\n",
    "print(ket_qua)"
   ]
  },
  {
   "cell_type": "code",
   "execution_count": null,
   "id": "d3f48d05",
   "metadata": {},
   "outputs": [
    {
     "name": "stdout",
     "output_type": "stream",
     "text": [
      "Tôi xa bạn lắm\n"
     ]
    }
   ],
   "source": [
    "def tri_tuyet_doi(a):\n",
    "    if a < 0:\n",
    "        return a*-1\n",
    "    return a\n",
    "    \n",
    "a = int(input(\"Nhập vào a:\"))\n",
    "b = int(input(\"Nhập vào b:\"))\n",
    "ket_qua = tri_tuyet_doi(a - b)\n",
    "\n",
    "if ket_qua > 10:\n",
    "    print(\"Tôi xa bạn lắm\")\n",
    "else:\n",
    "    print(\"Tôi gần bạn lắm\")"
   ]
  },
  {
   "cell_type": "markdown",
   "id": "1d7f8db0",
   "metadata": {},
   "source": [
    "### Bài tập"
   ]
  },
  {
   "cell_type": "markdown",
   "id": "75fb488b",
   "metadata": {},
   "source": [
    "Viết hàm kiểm tra số nguyên tố"
   ]
  },
  {
   "cell_type": "code",
   "execution_count": null,
   "id": "63701bd7",
   "metadata": {},
   "outputs": [
    {
     "name": "stdout",
     "output_type": "stream",
     "text": [
      "5 7\n",
      "11 13\n",
      "17 19\n",
      "23 25\n",
      "29 31\n",
      "False\n"
     ]
    }
   ],
   "source": [
    "## def so_nguyen_to(a): ~~> return True, return False\n",
    "\n",
    "def so_nguyen_to(n):\n",
    "    if n <= 1:\n",
    "        return False\n",
    "    if n <= 3:\n",
    "        return True\n",
    "    if n % 2 == 0 or n % 3 == 0:\n",
    "        return False\n",
    "    \n",
    "    i = 5\n",
    "    while i * i <= n:\n",
    "        print(i, i+2)\n",
    "        if n % i == 0 or n % (i + 2) == 0:\n",
    "            return False\n",
    "        i += 6\n",
    "    return True\n",
    "\n",
    "### \n",
    "\n",
    "print(so_nguyen_to(155))"
   ]
  },
  {
   "cell_type": "code",
   "execution_count": null,
   "id": "27947e66",
   "metadata": {},
   "outputs": [
    {
     "name": "stdout",
     "output_type": "stream",
     "text": [
      "2 3 5 7 11 13 17 19 23 29 31 37 41 43 47 53 59 61 67 71 73 79 83 89 97 101 103 107 109 113 127 131 137 139 149 151 157 163 167 173 179 181 191 193 197 199 211 223 227 229 233 239 241 251 257 263 269 271 277 281 283 293 307 311 313 317 331 337 347 349 353 359 367 373 379 383 389 397 401 409 419 421 431 433 439 443 449 457 461 463 467 479 487 491 499 503 509 521 523 541 547 557 563 569 571 577 587 593 599 601 607 613 617 619 631 641 643 647 653 659 661 673 677 683 691 701 709 719 727 733 739 743 751 757 761 769 773 787 797 809 811 821 823 827 829 839 853 857 859 863 877 881 883 887 907 911 919 929 937 941 947 953 967 971 977 983 991 997 "
     ]
    }
   ],
   "source": [
    "def so_nguyen_to(n):\n",
    "    if n < 2:\n",
    "        return False\n",
    "    for i in range(2, int(n//2) + 1):\n",
    "        if n % i == 0:\n",
    "            return False\n",
    "    return True"
   ]
  },
  {
   "cell_type": "markdown",
   "id": "221103cf",
   "metadata": {},
   "source": [
    "Nhập vào 3 điểm toán, lý, hóa\n",
    "\n",
    "Hãy viết hàm in điểm trung bung bình rồi tính điểm trung bình của toán lý, toán hóa, lý hóa và toán lý hóa"
   ]
  },
  {
   "cell_type": "code",
   "execution_count": null,
   "id": "1ba1d8ae",
   "metadata": {},
   "outputs": [
    {
     "name": "stdout",
     "output_type": "stream",
     "text": [
      "10.0 -1.0 8.0\n",
      "3 môn 5.666666666666667\n",
      "toán lý: 4.5\n",
      "toán hóa: 9.0\n",
      "lý hóa: 3.5\n"
     ]
    }
   ],
   "source": [
    "toan = float(input(\"Hãy nhập điểm toán: \"))\n",
    "ly = float(input(\"Hãy nhập điểm lý: \"))\n",
    "hoa = float(input(\"Hãy nhập điểm hóa: \"))\n",
    "\n",
    "def diem_trung_binh(a, b, c=None):\n",
    "    if c is None:\n",
    "        return (a + b)/2\n",
    "    return (a + b + c)/3\n",
    "\n",
    "print(toan, ly, hoa)\n",
    "\n",
    "print(\"3 môn\", diem_trung_binh(toan, ly, hoa))\n",
    "print(\"toán lý:\", diem_trung_binh(toan, ly))\n",
    "print(\"toán hóa:\", diem_trung_binh(toan, hoa))\n",
    "print(\"lý hóa:\", diem_trung_binh(ly, hoa))"
   ]
  },
  {
   "cell_type": "markdown",
   "id": "50f43307",
   "metadata": {},
   "source": [
    "Viết hàm đếm số lượng từ của một chuỗi đưa vào"
   ]
  },
  {
   "cell_type": "code",
   "execution_count": 12,
   "id": "be785b29",
   "metadata": {},
   "outputs": [
    {
     "name": "stdout",
     "output_type": "stream",
     "text": [
      "4\n",
      "4\n",
      "4\n",
      "4\n"
     ]
    }
   ],
   "source": [
    "def dem_so_luong_tu(chuoi):\n",
    "    dem = 0\n",
    "    KT_trong_tu = False\n",
    "    for ky_tu in chuoi:\n",
    "        if ky_tu != \" \":\n",
    "            if not KT_trong_tu:\n",
    "                dem += 1\n",
    "                KT_trong_tu = True\n",
    "        else:\n",
    "            KT_trong_tu = False\n",
    "    return dem\n",
    "    \n",
    "print(dem_so_luong_tu(\"xin chào các bạn\")) ## ~~> 4\n",
    "print(dem_so_luong_tu(\"  xin chào các bạn \")) ## ~~> 4\n",
    "print(dem_so_luong_tu(\"xin   chào các bạn\")) ## ~~> 4\n",
    "print(dem_so_luong_tu(\"  xin   chào   các   bạn  \")) ## ~~> 4"
   ]
  },
  {
   "cell_type": "code",
   "execution_count": null,
   "id": "7418612b",
   "metadata": {},
   "outputs": [
    {
     "name": "stdout",
     "output_type": "stream",
     "text": [
      "4\n",
      "4\n",
      "4\n",
      "4\n"
     ]
    }
   ],
   "source": [
    "def dem_so_luong_tu(chuoi):\n",
    "    chuoi = chuoi.strip()\n",
    "    while \"  \" in chuoi:\n",
    "        chuoi = chuoi.replace(\"  \", \" \")\n",
    "    return chuoi.count(\" \") + 1\n",
    "\n",
    "print(dem_so_luong_tu(\"xin chào các bạn\")) ## ~~> 4\n",
    "print(dem_so_luong_tu(\"  xin chào các bạn \")) ## ~~> 4\n",
    "print(dem_so_luong_tu(\"xin   chào các bạn\")) ## ~~> 4\n",
    "print(dem_so_luong_tu(\"  xin   chào   các   bạn  \")) ## ~~> 4"
   ]
  },
  {
   "cell_type": "code",
   "execution_count": 15,
   "id": "76538ea9",
   "metadata": {},
   "outputs": [
    {
     "name": "stdout",
     "output_type": "stream",
     "text": [
      "xin chào các bạn\n"
     ]
    }
   ],
   "source": [
    "chuoi = \"  xin chào các bạn \"\n",
    "\n",
    "chuoi = chuoi.strip()\n",
    "print(chuoi)"
   ]
  },
  {
   "cell_type": "markdown",
   "id": "b4adef40",
   "metadata": {},
   "source": [
    "Viết một hàm vẽ hình tròn, một hàm vẽ hình vuông và một hàm vẽ hình tam giác đều (giá trị đầu vào là a)\n",
    "\n",
    "Tất cả hàm này, bắt đầu từ 1 vị trí, sau khi vẽ ra, con trỏ sẽ tiến tới vị trí tiếp theo, cách vì đầu một khoảng a + 10 theo chiều x từ trái sang"
   ]
  },
  {
   "cell_type": "code",
   "execution_count": null,
   "id": "e405d1d4",
   "metadata": {},
   "outputs": [],
   "source": []
  }
 ],
 "metadata": {
  "kernelspec": {
   "display_name": "linhtinh",
   "language": "python",
   "name": "python3"
  },
  "language_info": {
   "codemirror_mode": {
    "name": "ipython",
    "version": 3
   },
   "file_extension": ".py",
   "mimetype": "text/x-python",
   "name": "python",
   "nbconvert_exporter": "python",
   "pygments_lexer": "ipython3",
   "version": "3.12.11"
  }
 },
 "nbformat": 4,
 "nbformat_minor": 5
}
