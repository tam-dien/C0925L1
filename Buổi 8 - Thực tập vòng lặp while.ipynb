{
 "cells": [
  {
   "cell_type": "markdown",
   "id": "1f7be993",
   "metadata": {},
   "source": [
    "# Thực tập vòng lặp While\n",
    "\n",
    "### Bài 1\n",
    "\n",
    "Nhập vào số a, sử dụng lệnh while (không sử dụng break và for) để xác định xem số đó có phải là số nguyên tố hay không"
   ]
  },
  {
   "cell_type": "code",
   "execution_count": null,
   "id": "8cb73965",
   "metadata": {},
   "outputs": [],
   "source": [
    "#NguyenDucTuan\n",
    "#Em_vua_vao\n",
    "a = int(input(\"Nhập số a: \"))\n",
    "test = True\n",
    "i = 2\n",
    "if a <= 1:\n",
    "    test = False\n",
    "while test and i * i <= a:\n",
    "    if a % i == 0:\n",
    "        test = False\n",
    "    i += 1 \n",
    "    \n",
    "if test:\n",
    "    print(f\"{a} là số nguyên tố.\")\n",
    "else:\n",
    "    print(f\"{a} không phải là số nguyên tố.\")"
   ]
  },
  {
   "cell_type": "markdown",
   "id": "9f2357ca",
   "metadata": {},
   "source": [
    "### Bài 2\n",
    "\n",
    "Hãy sử dụng lệnh while lập trình cho bài đoán số ở buổi thứ 9"
   ]
  },
  {
   "cell_type": "code",
   "execution_count": null,
   "id": "db79cb9d",
   "metadata": {},
   "outputs": [],
   "source": []
  },
  {
   "cell_type": "markdown",
   "id": "58f5b789",
   "metadata": {},
   "source": [
    "### Bài 3\n",
    "\n",
    "Nhập vào số a, hãy đếm a có bao nhiêu chữ số chẵn, bao nhiêu cữ số lẻ\n",
    "\n",
    "#### Cách 1 (dùng chuỗi):"
   ]
  },
  {
   "cell_type": "code",
   "execution_count": null,
   "id": "e7f9da21",
   "metadata": {},
   "outputs": [],
   "source": [
    "#Mai Thanh Tùng\n",
    "\n",
    "a = int(input(\"Nhập số a: \"))\n",
    "\n",
    "so_chan = 0\n",
    "so_le = 0\n",
    "\n",
    "while a > 0:\n",
    "    b = a % 10\n",
    "    if b % 2 == 0:\n",
    "        so_chan += 1\n",
    "    else:\n",
    "        so_le += 1\n",
    "    a //= 10\n",
    "print(\"Số chữ số chẵn trong a là: \",so_chan)\n",
    "print(\"Số chữ số lẻ trong a là: \",so_le)"
   ]
  },
  {
   "cell_type": "markdown",
   "id": "9a3d9703",
   "metadata": {},
   "source": [
    "#### Cách 2 (không dùng chuỗi):"
   ]
  },
  {
   "cell_type": "code",
   "execution_count": 1,
   "id": "d4e474c8",
   "metadata": {},
   "outputs": [
    {
     "name": "stdout",
     "output_type": "stream",
     "text": [
      "Số lượng chữ số chẵn: 0\n",
      "Số lượng chữ số lẻ: 2\n"
     ]
    }
   ],
   "source": [
    "a_str = input(\"Nhập vào số a: \")\n",
    "so_chan = 0\n",
    "so_le = 0\n",
    "i = 0\n",
    "chuoi_chan = \"02468\"\n",
    "chuoi_le = \"13579\"\n",
    "while i < len(a_str):\n",
    "    ky_tu = a_str[i]\n",
    "    if ky_tu in chuoi_chan:\n",
    "        so_chan += 1\n",
    "    elif ky_tu in chuoi_le:\n",
    "        so_le += 1\n",
    "    i += 1\n",
    "    \n",
    "print(f\"Số lượng chữ số chẵn: {so_chan}\")\n",
    "print(f\"Số lượng chữ số lẻ: {so_le}\")"
   ]
  },
  {
   "cell_type": "markdown",
   "id": "69539ece",
   "metadata": {},
   "source": [
    "### Bài 4\n",
    "\n",
    "Nhập vào số a, hãy tính tổng các chữ số nguyên tố của a"
   ]
  },
  {
   "cell_type": "code",
   "execution_count": 2,
   "id": "f001bd9a",
   "metadata": {},
   "outputs": [
    {
     "name": "stdout",
     "output_type": "stream",
     "text": [
      "Số đã nhập là 509323\n",
      "Tổng các chữ số nguyên tố là 13\n"
     ]
    }
   ],
   "source": [
    "n = int(input(\"Nhập số n: \"))\n",
    "print(\"Số đã nhập là\", n)\n",
    "\n",
    "tong_chu_so_nguyen_to = 0\n",
    "\n",
    "while n > 0:\n",
    "    chu_so = n % 10\n",
    "    if chu_so == 2 or chu_so == 3 or chu_so == 5 or chu_so == 7:\n",
    "        tong_chu_so_nguyen_to += chu_so\n",
    "    n //= 10\n",
    "\n",
    "print(\"Tổng các chữ số nguyên tố là\", tong_chu_so_nguyen_to)"
   ]
  },
  {
   "cell_type": "markdown",
   "id": "0a5075a4",
   "metadata": {},
   "source": [
    "### Bài 5\n",
    "\n",
    "Số armstrong là số có tổng của các chữ số mũ số lượng chữ số bằng chính nó\n",
    "\n",
    "Ví dụ\n",
    "\n",
    "Số 371 là một số armstrong vì:\n",
    "\n",
    "371 = 3^3 + 7^3 + 1^3 (3 là số lượng chữ số của 371)\n",
    "\n",
    "Số 1634 là một số armstrong vì:\n",
    "\n",
    "1634 = 1^4 + 6^4 + 3^4 + 4^4 (4 là số lượng chữ số của 1634)\n",
    "\n",
    "Nhập vào số a, kiểm tra xem a có phải là số armstrong không"
   ]
  },
  {
   "cell_type": "code",
   "execution_count": null,
   "id": "b9ed54a5",
   "metadata": {},
   "outputs": [],
   "source": [
    "a = int(input(\"hãy nhập số a nguyên dương ban đầu: \"))\n",
    "\n",
    "so_tam1 = a # tạo ra một phiên bản để tính toán, giữ nguyên a ban đầu nhập vào\n",
    "so_tam2 = a\n",
    "\n",
    "so_luong_chu_so = 0 # biến đếm các chữ số\n",
    " \n",
    "while so_tam1 > 0:\n",
    "    so_tam1 //= 10 # so_tam bớt đi 1 số\n",
    "    so_luong_chu_so += 1\n",
    "\n",
    "tong = 0 # tổng của các chữ số lũy thừa với tổng các chữ số\n",
    "while so_tam2 > 0: \n",
    "    chu_so = so_tam2 % 10 # chu_so = số cuối cùng\n",
    "    tong += chu_so**so_luong_chu_so\n",
    "    so_tam2 //= 10\n",
    "\n",
    "print(\"số bạn vừa nhập là: \", a)\n",
    "if tong == a:\n",
    "    print(\"Số bạn vừa nhập được gọi là một số amstrong \")\n",
    "else: \n",
    "    print(\"Số bạn vừa nhập không phải là số amstrong\")"
   ]
  },
  {
   "cell_type": "markdown",
   "id": "f8a584d3",
   "metadata": {},
   "source": [
    "### Bài 6\n",
    "\n",
    "Dãy số fibonacci là dãy số được định nghĩa như sau: 1, 1, 2, 3, 5, 8, 13,... với số kế tiếp sẽ bằng tổng hai số trước đó\n",
    "\n",
    "Nhập vào A, hãy tìm số trong dãy số fibonacci lớn nhất nhưng không vượt quá A"
   ]
  },
  {
   "cell_type": "code",
   "execution_count": null,
   "id": "3ad4d85b",
   "metadata": {},
   "outputs": [
    {
     "name": "stdout",
     "output_type": "stream",
     "text": [
      "1 1\n",
      "21\n"
     ]
    }
   ],
   "source": [
    "A = int(input(\"Nhâp A:\"))\n",
    "\n",
    "f1 = 1\n",
    "f2 = 1\n",
    "\n",
    "while f2 <= A:\n",
    "    # f1 = f2\n",
    "    # f2 = f1 + f2\n",
    "\n",
    "    ### lần lặp 1\n",
    "    ## f1 = 1\n",
    "    ## f2 = 2\n",
    "\n",
    "    ### lần lặp 2\n",
    "    ## f1 = 2\n",
    "    ## f2 = 2 + 2 = 4\n",
    "\n",
    "    f1, f2 = f2, f1 + f2\n",
    "    \n",
    "    ### lần lặp 1\n",
    "    ## f1, f2 = 1, 1 + 1 = 1, 2\n",
    "\n",
    "    ### lần lặp 2\n",
    "    ## f1, f2 = 2, 1 + 2 = 2, 3\n",
    "\n",
    "    # f1, f2 = f2, f1 + f2\n",
    "    # print(f1, f2)\n",
    "\n",
    "print(f1)"
   ]
  },
  {
   "cell_type": "markdown",
   "id": "9fa794f2",
   "metadata": {},
   "source": [
    "### Bài 7\n",
    "\n",
    "Nhập vào A, tìm n nhỏ nhất sao cho\n",
    "\n",
    "1 + 1/2 + 1/3 + 1/4 + ... + 1/n > A"
   ]
  },
  {
   "cell_type": "code",
   "execution_count": 11,
   "id": "246ec002",
   "metadata": {},
   "outputs": [
    {
     "name": "stdout",
     "output_type": "stream",
     "text": [
      "2.0\n",
      "2.083333333333333 4\n"
     ]
    }
   ],
   "source": [
    "# Linh\n",
    "A = float(input(\"Nhập số A: \"))\n",
    "\n",
    "n = 0\n",
    "tong = 0\n",
    "\n",
    "while tong <= A:\n",
    "    n += 1\n",
    "    tong += 1/n\n",
    "    \n",
    "print(A)\n",
    "print(tong, n)"
   ]
  },
  {
   "cell_type": "markdown",
   "id": "c5fd4d8a",
   "metadata": {},
   "source": [
    "### Bài 8\n",
    "\n",
    "Nhập vào a và b là số nguyên dương (b có một chữ số, nhập sai yêu cầu nhập lại), hãy tìm vị trí đầu tiên (bắt đầu từ bên trái) của b trong a, nếu không tìm thấy thì in kết quả là 0 (ví trí đầu bắt đầu từ 1)\n",
    "\n",
    "<b>Ví dụ:</b>\n",
    "\n",
    "<b>Nhập:</b>\n",
    "- a = 125785\n",
    "- b = 5\n",
    "\n",
    "<b>Kết quả:</b> 3 (do số 5 nằm ở vị trí 3)"
   ]
  },
  {
   "cell_type": "code",
   "execution_count": null,
   "id": "9edf35ac",
   "metadata": {},
   "outputs": [],
   "source": []
  }
 ],
 "metadata": {
  "kernelspec": {
   "display_name": "linhtinh",
   "language": "python",
   "name": "python3"
  },
  "language_info": {
   "codemirror_mode": {
    "name": "ipython",
    "version": 3
   },
   "file_extension": ".py",
   "mimetype": "text/x-python",
   "name": "python",
   "nbconvert_exporter": "python",
   "pygments_lexer": "ipython3",
   "version": "3.12.11"
  }
 },
 "nbformat": 4,
 "nbformat_minor": 5
}
