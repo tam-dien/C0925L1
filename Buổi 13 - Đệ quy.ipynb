{
 "cells": [
  {
   "cell_type": "markdown",
   "id": "792611ee",
   "metadata": {},
   "source": [
    "# Đệ quy"
   ]
  },
  {
   "cell_type": "markdown",
   "id": "9ac25106",
   "metadata": {},
   "source": [
    "### Đệ quy là gì?\n",
    "\n",
    "Đệ quy (recursion) là phương pháp một hàm tự gọi lại chính nó trong quá trình thực thi.\n",
    "\n",
    "Một bài toán đệ quy cần có:\n",
    "- Trường hợp cơ sở (base case) để dừng đệ quy.\n",
    "- Công thức đệ quy (recursive case) để bài toán dần đơn giản hơn.\n",
    "\n",
    "Ưu điểm:\n",
    "- Code ngắn gọn, dễ hiểu với bài toán có tính chất chia nhỏ.\n",
    "\n",
    "Nhược điểm:\n",
    "- Nếu không có điều kiện dừng sẽ gây lỗi tràn stack.\n",
    "- Có thể kém hiệu quả nếu không tối ưu (memoization)."
   ]
  },
  {
   "cell_type": "markdown",
   "id": "a772f3dc",
   "metadata": {},
   "source": [
    "Hãy sử dụng đệ quy để in 10 lần chữ hello"
   ]
  },
  {
   "cell_type": "code",
   "execution_count": 5,
   "id": "b39f327f",
   "metadata": {},
   "outputs": [
    {
     "name": "stdout",
     "output_type": "stream",
     "text": [
      "hello 0\n",
      "hello 1\n",
      "hello 2\n",
      "hello 3\n",
      "hello 4\n",
      "hello 5\n",
      "hello 6\n",
      "hello 7\n",
      "hello 8\n",
      "hello 9\n"
     ]
    }
   ],
   "source": [
    "def ham_a(i):\n",
    "    print(\"hello\", i)\n",
    "    if i < 9:\n",
    "        ham_a(i+1)\n",
    "\n",
    "ham_a(0)"
   ]
  },
  {
   "cell_type": "code",
   "execution_count": 8,
   "id": "60904930",
   "metadata": {},
   "outputs": [
    {
     "name": "stdout",
     "output_type": "stream",
     "text": [
      "hello 0\n",
      "hello 1\n",
      "hello 2\n",
      "hello 3\n",
      "hello 4\n",
      "hi 4\n",
      "hi 3\n",
      "hi 2\n",
      "hi 1\n",
      "hi 0\n"
     ]
    }
   ],
   "source": [
    "def ham_a(i):\n",
    "    print(\"hello\", i)\n",
    "    if i < 4:\n",
    "        ham_a(i+1)\n",
    "    print(\"hi\", i)\n",
    "\n",
    "ham_a(0)"
   ]
  },
  {
   "cell_type": "code",
   "execution_count": null,
   "id": "ba5c41b3",
   "metadata": {},
   "outputs": [
    {
     "name": "stdout",
     "output_type": "stream",
     "text": [
      "15\n"
     ]
    }
   ],
   "source": [
    "### S = 1 + 2 + 3 + ... + n\n",
    "\n",
    "def tinh_tong(i, n):\n",
    "    if i == n:\n",
    "        return i\n",
    "    \n",
    "    return tinh_tong(i + 1, n) + i\n",
    "\n",
    "ket_qua = tinh_tong(0, 5)\n",
    "print(ket_qua)"
   ]
  },
  {
   "cell_type": "markdown",
   "id": "5e66c8bb",
   "metadata": {},
   "source": [
    "### Bài tập"
   ]
  },
  {
   "cell_type": "markdown",
   "id": "c6b8c416",
   "metadata": {},
   "source": [
    "### Bài 1\n",
    "\n",
    "Viết hàm `giai_thua` để tính giai thừa bằng cách sử dụng đệ quy"
   ]
  },
  {
   "cell_type": "code",
   "execution_count": 14,
   "id": "d145ab84",
   "metadata": {},
   "outputs": [
    {
     "name": "stdout",
     "output_type": "stream",
     "text": [
      "120\n",
      "5040\n"
     ]
    }
   ],
   "source": [
    "### giai_thua = 1 * 2 * 3 * ... * n\n",
    "\n",
    "def giai_thua(i, n):\n",
    "    if i == n:\n",
    "        return i\n",
    "    \n",
    "    return giai_thua(i + 1, n) * i\n",
    "\n",
    "ket_qua = giai_thua(1, 5)\n",
    "print(ket_qua)\n",
    "\n",
    "ket_qua = giai_thua(1, 7)\n",
    "print(ket_qua)"
   ]
  },
  {
   "cell_type": "markdown",
   "id": "c2b726ca",
   "metadata": {},
   "source": [
    "### Bài 2\n",
    "\n",
    "Viết hàm `fibonacci` có một tham số đầu vào là số nguyên n, trả về số fibonacci thứ n (bắt đầu từ 1)."
   ]
  },
  {
   "cell_type": "code",
   "execution_count": 2,
   "id": "76049eb4",
   "metadata": {},
   "outputs": [
    {
     "data": {
      "text/plain": [
       "5"
      ]
     },
     "execution_count": 2,
     "metadata": {},
     "output_type": "execute_result"
    }
   ],
   "source": [
    "def fibonacci(n, a=0, b=1):\n",
    "    if n == 1:\n",
    "        return b\n",
    "    return fibonacci(n - 1, b, a + b)\n",
    "    \n",
    "fibonacci(5)"
   ]
  },
  {
   "cell_type": "code",
   "execution_count": 1,
   "id": "2b4bb9f9",
   "metadata": {},
   "outputs": [
    {
     "data": {
      "text/plain": [
       "5"
      ]
     },
     "execution_count": 1,
     "metadata": {},
     "output_type": "execute_result"
    }
   ],
   "source": [
    "def fibonacci(n):\n",
    "    if n == 1 or n == 2:\n",
    "        return 1\n",
    "    \n",
    "    return fibonacci(n - 1) + fibonacci(n - 2)\n",
    "\n",
    "fibonacci(5)"
   ]
  },
  {
   "cell_type": "markdown",
   "id": "a72c9aff",
   "metadata": {},
   "source": [
    "### Bài 3\n",
    "\n",
    "Viết hàm `so_nhi_phan` có một tham số đầu vào là số nguyên n, hãy in ra toàn bộ các số nhị phân có n chữ số."
   ]
  },
  {
   "cell_type": "code",
   "execution_count": null,
   "id": "aac24323",
   "metadata": {},
   "outputs": [],
   "source": [
    "# 0 1 2 3 4 5 6 7 8 9\n",
    "# 10 11 12 13 14 15 16 17 18 19\n",
    "# 20 21 22\n",
    "#\n",
    "# 99 100"
   ]
  },
  {
   "cell_type": "code",
   "execution_count": 5,
   "id": "ebdbffa8",
   "metadata": {},
   "outputs": [
    {
     "name": "stdout",
     "output_type": "stream",
     "text": [
      "000\n",
      "001\n",
      "010\n",
      "011\n",
      "100\n",
      "101\n",
      "110\n",
      "111\n"
     ]
    }
   ],
   "source": [
    "### n = 3\n",
    "### 000\n",
    "### 001\n",
    "### 010\n",
    "### 011\n",
    "### 100\n",
    "### 101\n",
    "### 110\n",
    "### 111\n",
    "\n",
    "def so_nhi_phan(i, n, ket_qua):\n",
    "    if i == n:\n",
    "        print(ket_qua)\n",
    "        return\n",
    "    \n",
    "    so_nhi_phan(i+1, n, ket_qua + \"0\")\n",
    "    so_nhi_phan(i+1, n, ket_qua + \"1\")\n",
    "\n",
    "so_nhi_phan(0, 3, \"\")"
   ]
  },
  {
   "attachments": {
    "image.png": {
     "image/png": "[encoded data removed]"
    }
   },
   "cell_type": "markdown",
   "id": "6595d8c7",
   "metadata": {},
   "source": [
    "### Bài 4\n",
    "\n",
    "Câu 3 Đề thi KỲ THI OLYMPIC TRUYỀN THỐNG 30/4 lớp 11 năm 2014\n",
    "\n",
    "Một hành giả (nhà tu hành) muốn đến được Tây Trúc cần lần lượt thỉnh hết N ngôi chùa (các\n",
    "ngôi chùa được đánh số từ 1 đến N theo trình tự thỉnh) đồng thời phải trút bỏ hết số hồ lô mang trên\n",
    "người sau khi thỉnh hết N ngôi chùa đó và tích lũy được càng nhiều càng tốt số hạt xá lợi khi kết thúc\n",
    "hành trình. Tại mỗi ngôi chùa đều đặt một hồ lô có chứa một số nào đó các hạt xá lợi: hồ lô ở ngôi\n",
    "chùa i có chứa Xi hạt.\n",
    "Xuất phát từ ngôi chùa 1 (trước khi xuất phát, hành giả không có hồ lô nào mang trên người),\n",
    "mỗi khi đặt chân đến một ngôi chùa i hành giả có thể có một trong hai lựa chọn:\n",
    "\n",
    "- Lấy quả hồ lô ở đó và được thu giữ toàn bộ xá lợi có trong hồ lô. Trường hợp này\n",
    "khiến hành giả phải mang theo trên người hồ lô này để tiếp tục hành trình.\n",
    "- Bỏ qua, không lấy quả hồ lô đó. Trường hợp này khiến hành giả không lấy được số xá\n",
    "lợi có trong hồ lô.\n",
    "\n",
    "Việc lấy thêm hoặc trút bỏ bớt hồ lô phải tuân theo quy tắc nghiêm ngặt sau đây.\n",
    "Khi đang thỉnh tại chùa i (1 ≤ i ≤ N) và số hồ lô đang mang trên người là K (K ≥ 0) thì:\n",
    "1. Trong mọi tình huống, hành giả được quyền không lấy hồ lô tại đây nếu muốn.\n",
    "2. Hành giả chỉ được lấy thêm hồ lô tại đây khi một trong hai trường hợp sau xảy ra:\n",
    "- Trường hợp 1: K = 0 ;\n",
    "- Trường hợp 2: 0 < K < M và trước đó, tại chùa i -1 hành giả có lấy hồ lô.\n",
    "3. Hành giả chỉ được bỏ bớt đúng một hồ lô mang trên người khi K > 0 đồng thời tại chùa\n",
    "này hành giả đã không lấy hồ lô.\n",
    "(Như vậy, nếu tại chùa i hành giả không lấy hồ lô và số hồ lô đang mang trên người là K thì\n",
    "hành giả được trút bỏ bớt 1 hồ lô tại đây nhưng nếu K > 1 thì hành giả không được lấy hồ lô\n",
    "tại K-1 chùa tiếp theo để trút bỏ hết K-1 hồ lô đó rồi mới có thể tiếp tục lấy thêm hồ lô (nếu\n",
    "còn và nếu muốn)).\n",
    "\n",
    "(Như vậy, nếu tại chùa i hành giả không lấy hồ lô và số hồ lô đang mang trên người là K thì\n",
    "hành giả được trút bỏ bớt 1 hồ lô tại đây nhưng nếu K > 1 thì hành giả không được lấy hồ lô\n",
    "tại K-1 chùa tiếp theo để trút bỏ hết K-1 hồ lô đó rồi mới có thể tiếp tục lấy thêm hồ lô (nếu\n",
    "còn và nếu muốn)).\n",
    "\n",
    "- Nhập vào N và M\n",
    "- Sau đó nhập vào dãy số là số lượng xá lợi của mỗi hồ lô tại từng chùa (theo thứ tự)\n",
    "- Cho số lượng hồ lô ở mỗi chùa nhỏ hơn 10\n",
    "\n",
    "![image.png](attachment:image.png)"
   ]
  },
  {
   "cell_type": "code",
   "execution_count": null,
   "id": "21391e1c",
   "metadata": {},
   "outputs": [
    {
     "name": "stdout",
     "output_type": "stream",
     "text": [
      "35\n"
     ]
    }
   ],
   "source": []
  }
 ],
 "metadata": {
  "kernelspec": {
   "display_name": "linhtinh",
   "language": "python",
   "name": "python3"
  },
  "language_info": {
   "codemirror_mode": {
    "name": "ipython",
    "version": 3
   },
   "file_extension": ".py",
   "mimetype": "text/x-python",
   "name": "python",
   "nbconvert_exporter": "python",
   "pygments_lexer": "ipython3",
   "version": "3.12.11"
  }
 },
 "nbformat": 4,
 "nbformat_minor": 5
}
