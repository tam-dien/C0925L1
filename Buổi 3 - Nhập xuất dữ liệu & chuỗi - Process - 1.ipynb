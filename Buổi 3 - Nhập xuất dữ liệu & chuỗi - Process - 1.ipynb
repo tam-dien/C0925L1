{
 "cells": [
  {
   "cell_type": "markdown",
   "id": "f29a38a7",
   "metadata": {},
   "source": [
    "# Nhập xuất dữ liệu và chuỗi (String)\n",
    "\n",
    "### Xuất dữ liệu\n",
    "\n",
    "Lệnh `print()` là lệnh giúp python xuất dữ liệu ra màn hình\n",
    "\n",
    "Cú pháp:\n",
    "\n",
    "`print(*object, sep=' ', end='\\n')`\n",
    "\n",
    "Trong đó:\n",
    "\n",
    "- objects – là các giá trị sẽ được xuất ra màn hình\n",
    "- sep – phân cách giữa các giá trị. Giá trị mặc định của sep là một khoảng trắng.\n",
    "- end – là kí tự được in ra sau khi các giá trị của objects đã được in. Mặc định của end là ‘\\n’ – xuống dòng mới.\n",
    "##### objects có thể là nhiều giá trị, mỗi giá trị cách nhau một dấu phẩy\n",
    "\n",
    "Ví dụ:\n",
    "\n",
    "`print(\"Hello\",\"mọi người\")`\n",
    "\n",
    "Ở đây, objects là \"HEllo\" và \"mọi người\"\n",
    "\n",
    "##### Đọc thêm tài liệu tại đây: https://www.w3schools.com/python/ref_func_print.asp\n",
    "\n",
    "Thực hiện một lệnh print với objects có một giá trị là biến:"
   ]
  },
  {
   "cell_type": "code",
   "execution_count": 5,
   "id": "11a17883",
   "metadata": {},
   "outputs": [
    {
     "name": "stdout",
     "output_type": "stream",
     "text": [
      "10 15  Xin chào hi, hello\n"
     ]
    }
   ],
   "source": [
    "a = 10\n",
    "b = 15\n",
    "\n",
    "print(a, b, \" Xin chào\", \"hi, hello\")"
   ]
  },
  {
   "cell_type": "markdown",
   "id": "a4059434",
   "metadata": {},
   "source": [
    "Thực hiện một lệnh print có sep là '\\t':"
   ]
  },
  {
   "cell_type": "code",
   "execution_count": 24,
   "id": "32e919bf",
   "metadata": {},
   "outputs": [
    {
     "name": "stdout",
     "output_type": "stream",
     "text": [
      "10\t15\tcái gì đó nữa\n"
     ]
    }
   ],
   "source": [
    "a = 10\n",
    "b = 15\n",
    "\n",
    "print(a, b, \"cái gì đó nữa\", sep=\"\\t\")"
   ]
  },
  {
   "cell_type": "code",
   "execution_count": 22,
   "id": "e5c04162",
   "metadata": {},
   "outputs": [
    {
     "name": "stdout",
     "output_type": "stream",
     "text": [
      "xinnn\tchào\n",
      "xinnn   chào\n",
      "xinnn\n",
      "chào\n"
     ]
    }
   ],
   "source": [
    "a = \"xinnn\\tchào\"\n",
    "b = \"xinnn   chào\"\n",
    "c = \"xinnn\\nchào\"\n",
    "print(a)\n",
    "print(b)\n",
    "print(c)"
   ]
  },
  {
   "cell_type": "code",
   "execution_count": null,
   "id": "63c4a9ea",
   "metadata": {},
   "outputs": [],
   "source": []
  },
  {
   "cell_type": "markdown",
   "id": "9464ce38",
   "metadata": {},
   "source": [
    "Thực hiện một lệnh print có end là '.':"
   ]
  },
  {
   "cell_type": "code",
   "execution_count": null,
   "id": "5402d151",
   "metadata": {},
   "outputs": [
    {
     "name": "stdout",
     "output_type": "stream",
     "text": [
      "10 1515\n"
     ]
    }
   ],
   "source": [
    "a = 10\n",
    "b = 15\n",
    "\n",
    "print(a, b, end=\".\")\n",
    "print(b)"
   ]
  },
  {
   "cell_type": "markdown",
   "id": "59249269",
   "metadata": {},
   "source": [
    "### Nhập dữ liệu\n",
    "\n",
    "Lệnh `input()` là lệnh giúp python nhận dữ liệu nhập từ bàn phím\n",
    "\n",
    "Cú pháp:\n",
    "\n",
    "`input(prompt)`\n",
    "\n",
    "Trong đó:\n",
    "\n",
    "- prompt là nội dung in ra màn hình\n",
    "\n",
    "Giá trị trả về của lệnh `input()` mang kiểu dữ liệu là String (chuỗi)\n",
    "\n",
    "Thực hiện doạn lệnh yêu cầu nhập vào tên người dùng, sau đó in ra dòng chữ \"Xin chào [tên người dùng]\":"
   ]
  },
  {
   "cell_type": "code",
   "execution_count": null,
   "id": "10ab37fe",
   "metadata": {},
   "outputs": [
    {
     "name": "stdout",
     "output_type": "stream",
     "text": [
      "Xin chào An Trần\n"
     ]
    }
   ],
   "source": [
    "ten = input(\"Nhập tên:\")\n",
    "print(\"Xin chào\", ten)"
   ]
  },
  {
   "cell_type": "markdown",
   "id": "c3af4a74",
   "metadata": {},
   "source": [
    "Thực hiện một đoạn lệnh yêu cầu nhập vào bán kính một đường tròn, sau đó in ra diện tích và chu vi hình tròn đó"
   ]
  },
  {
   "cell_type": "code",
   "execution_count": 45,
   "id": "31fb49da",
   "metadata": {},
   "outputs": [
    {
     "name": "stdout",
     "output_type": "stream",
     "text": [
      "Bán kính: 5.0\n",
      "Diện tích: 78.5\n",
      "Chu vi: 31.400000000000002\n"
     ]
    }
   ],
   "source": [
    "r = float(input(\"Nhập vào bán kính:\"))\n",
    "\n",
    "dien_tich = r*r*3.14\n",
    "chu_vi = r*2*3.14\n",
    "\n",
    "print(\"Bán kính:\", r)\n",
    "print(\"Diện tích:\", dien_tich)\n",
    "print(\"Chu vi:\", chu_vi)"
   ]
  },
  {
   "cell_type": "markdown",
   "id": "3cafd94d",
   "metadata": {},
   "source": [
    "### Chuỗi dữ liệu\n",
    "\n",
    "Khai báo chuỗi:\n",
    "    \n",
    "`chuoi = \"hello, chuỗi rất thú vị!!\"`\n",
    "\n",
    "Trong python, chuỗi có thể được đặt trong hai dấu nháy đơn, hoặc hai dấu nháy kép\n",
    "\n",
    "### Truy xuất ký tự trong chuỗi\n",
    "\n",
    "Cú pháp:\n",
    "\n",
    "`chuỗi[vị trí]`\n",
    "\n",
    "Vị trí bắt đầu là 0\n",
    "\n",
    "Vị trí cuối cùng của chuỗi là -1\n",
    "\n",
    "Ví dụ:"
   ]
  },
  {
   "cell_type": "code",
   "execution_count": null,
   "id": "cfc295a3",
   "metadata": {
    "scrolled": true
   },
   "outputs": [
    {
     "ename": "IndexError",
     "evalue": "string index out of range",
     "output_type": "error",
     "traceback": [
      "\u001b[1;31m---------------------------------------------------------------------------\u001b[0m",
      "\u001b[1;31mIndexError\u001b[0m                                Traceback (most recent call last)",
      "Cell \u001b[1;32mIn[54], line 3\u001b[0m\n\u001b[0;32m      1\u001b[0m chuoi_a \u001b[38;5;241m=\u001b[39m \u001b[38;5;124m\"\u001b[39m\u001b[38;5;124mTui là chuỗi nè\u001b[39m\u001b[38;5;124m\"\u001b[39m\n\u001b[1;32m----> 3\u001b[0m ky_tu \u001b[38;5;241m=\u001b[39m \u001b[43mchuoi_a\u001b[49m\u001b[43m[\u001b[49m\u001b[38;5;241;43m15\u001b[39;49m\u001b[43m]\u001b[49m\n\u001b[0;32m      5\u001b[0m \u001b[38;5;28mprint\u001b[39m(ky_tu)\n",
      "\u001b[1;31mIndexError\u001b[0m: string index out of range"
     ]
    }
   ],
   "source": [
    "chuoi_a = \"Tui là chuỗi nè\"\n",
    "\n",
    "ky_tu = chuoi_a[15]\n",
    "print(ky_tu)"
   ]
  },
  {
   "cell_type": "code",
   "execution_count": 56,
   "id": "aa0eb478",
   "metadata": {},
   "outputs": [
    {
     "name": "stdout",
     "output_type": "stream",
     "text": [
      "16\n"
     ]
    }
   ],
   "source": [
    "chuoi_a = \"Tui là chuỗi nèa\"\n",
    "do_dai_a = len(chuoi_a)\n",
    "\n",
    "print(do_dai_a)"
   ]
  },
  {
   "cell_type": "code",
   "execution_count": 60,
   "id": "2d10ccb5",
   "metadata": {},
   "outputs": [
    {
     "name": "stdout",
     "output_type": "stream",
     "text": [
      "fdkakfldjaf\n",
      "f\n"
     ]
    }
   ],
   "source": [
    "### Nhập vào 1 chuỗi và in ký tự cuối cùng của chuỗi đó lên màn hình\n",
    "\n",
    "chuoi = input(\"Nhập chuỗi:\")\n",
    "ky_tu_cuoi = chuoi[len(chuoi) - 1]\n",
    "\n",
    "print(chuoi)\n",
    "print(ky_tu_cuoi)"
   ]
  },
  {
   "cell_type": "code",
   "execution_count": 61,
   "id": "adfacb06",
   "metadata": {},
   "outputs": [
    {
     "name": "stdout",
     "output_type": "stream",
     "text": [
      "sakjdkl232sda\n",
      "d\n"
     ]
    }
   ],
   "source": [
    "### Nhập vào 1 chuỗi và in ký tự cuối cùng của chuỗi đó lên màn hình\n",
    "\n",
    "chuoi = input(\"Nhập chuỗi:\")\n",
    "ky_tu_cuoi = chuoi[len(chuoi) - 2]\n",
    "\n",
    "print(chuoi)\n",
    "print(ky_tu_cuoi)"
   ]
  },
  {
   "cell_type": "code",
   "execution_count": 63,
   "id": "42314412",
   "metadata": {},
   "outputs": [
    {
     "name": "stdout",
     "output_type": "stream",
     "text": [
      "askdjskdjsk\n",
      "safdfdsf\n",
      "k\n"
     ]
    }
   ],
   "source": [
    "### Nhập vào 1 chuỗi và in ký tự cuối cùng của chuỗi đó lên màn hình\n",
    "\n",
    "chuoi = input(\"Nhập chuỗi:\")\n",
    "chuoi_2 = input(\"Nhập chuỗi 2:\")\n",
    "ky_tu_cuoi = chuoi[-1]\n",
    "\n",
    "print(chuoi)\n",
    "print(chuoi_2)\n",
    "print(ky_tu_cuoi)"
   ]
  },
  {
   "cell_type": "markdown",
   "id": "e95f15c5",
   "metadata": {},
   "source": [
    "### Cắt chuỗi\n",
    "\n",
    "Cú pháp:\n",
    "\n",
    "`chuỗi[a: b]`\n",
    "\n",
    "Trong đó\n",
    "- a là vị trí đầu\n",
    "- b là vị trí cuối +1\n"
   ]
  },
  {
   "cell_type": "code",
   "execution_count": 65,
   "id": "62e282e8",
   "metadata": {},
   "outputs": [
    {
     "name": "stdout",
     "output_type": "stream",
     "text": [
      "xi\n"
     ]
    }
   ],
   "source": [
    "chuoi = \"xin chào\"\n",
    "\n",
    "chuoi_b = chuoi[0: 2]\n",
    "print(chuoi_b)"
   ]
  },
  {
   "cell_type": "code",
   "execution_count": 67,
   "id": "52e040ab",
   "metadata": {},
   "outputs": [
    {
     "name": "stdout",
     "output_type": "stream",
     "text": [
      "n c\n"
     ]
    }
   ],
   "source": [
    "chuoi = \"xin chào\"\n",
    "\n",
    "chuoi_b = chuoi[2: 5]\n",
    "print(chuoi_b)"
   ]
  },
  {
   "cell_type": "code",
   "execution_count": 68,
   "id": "3a663e9d",
   "metadata": {},
   "outputs": [
    {
     "name": "stdout",
     "output_type": "stream",
     "text": [
      "xin c\n"
     ]
    }
   ],
   "source": [
    "chuoi = \"xin chào\"\n",
    "\n",
    "chuoi_b = chuoi[: 5]\n",
    "print(chuoi_b)"
   ]
  },
  {
   "cell_type": "code",
   "execution_count": 71,
   "id": "acbd97ab",
   "metadata": {},
   "outputs": [
    {
     "name": "stdout",
     "output_type": "stream",
     "text": [
      "n chào\n"
     ]
    }
   ],
   "source": [
    "chuoi = \"xin chào\"\n",
    "\n",
    "chuoi_b = chuoi[2:]\n",
    "print(chuoi_b)"
   ]
  },
  {
   "cell_type": "code",
   "execution_count": 74,
   "id": "99db0d39",
   "metadata": {},
   "outputs": [
    {
     "name": "stdout",
     "output_type": "stream",
     "text": [
      "xin chào\n"
     ]
    }
   ],
   "source": [
    "chuoi = \"xin chào\"\n",
    "\n",
    "chuoi_b = chuoi\n",
    "print(chuoi_b)"
   ]
  },
  {
   "cell_type": "code",
   "execution_count": 77,
   "id": "c13d378d",
   "metadata": {},
   "outputs": [
    {
     "name": "stdout",
     "output_type": "stream",
     "text": [
      "in\n"
     ]
    }
   ],
   "source": [
    "chuoi = \"xin chào\"\n",
    "\n",
    "chuoi_b = chuoi[-7:-5]\n",
    "print(chuoi_b)"
   ]
  },
  {
   "cell_type": "code",
   "execution_count": 78,
   "id": "83df253c",
   "metadata": {},
   "outputs": [
    {
     "name": "stdout",
     "output_type": "stream",
     "text": [
      "kdslkajfdklsfklsdafj\n",
      "sdafj\n"
     ]
    }
   ],
   "source": [
    "### Nhập vào một chuỗi, hãy in ra 5 ký tự cuối cùng của chuỗi\n",
    "\n",
    "chuoi = input(\"Nhập chuỗi:\")\n",
    "chuoi_b = chuoi[-5:]\n",
    "\n",
    "print(chuoi)\n",
    "print(chuoi_b)"
   ]
  },
  {
   "cell_type": "markdown",
   "id": "20c24da7",
   "metadata": {},
   "source": [
    "### Toán tử với chuỗi\n",
    "\n",
    "#### Toán tử +\n",
    "\n",
    "Toán tử + giúp gắn liền 2 chuỗi:\n",
    "\n",
    "Ví dụ:"
   ]
  },
  {
   "cell_type": "code",
   "execution_count": null,
   "id": "4402ddc9",
   "metadata": {},
   "outputs": [
    {
     "name": "stdout",
     "output_type": "stream",
     "text": [
      "hello Mai Tùng\n"
     ]
    }
   ],
   "source": [
    "chuoi_a = \"hello\"\n",
    "chuoi_b = \"Mai Tùng\"\n",
    "\n",
    "chuoi_c = chuoi_a + \" \" + chuoi_b\n",
    "\n",
    "print(chuoi_c)"
   ]
  },
  {
   "cell_type": "markdown",
   "id": "4cd1ccf7",
   "metadata": {},
   "source": [
    "#### Toán tử *\n",
    "\n",
    "Toán tử * giúp lặp lại đoạn chuỗi\n",
    "\n",
    "Ví dụ:"
   ]
  },
  {
   "cell_type": "code",
   "execution_count": 83,
   "id": "786a37a7",
   "metadata": {},
   "outputs": [
    {
     "name": "stdout",
     "output_type": "stream",
     "text": [
      "hellohellohellohellohello\n"
     ]
    }
   ],
   "source": [
    "chuoi_a = \"hello\"\n",
    "b = 5\n",
    "\n",
    "chuoi_c = chuoi_a * b\n",
    "\n",
    "print(chuoi_c)"
   ]
  },
  {
   "cell_type": "code",
   "execution_count": 86,
   "id": "fe1eb262",
   "metadata": {},
   "outputs": [
    {
     "name": "stdout",
     "output_type": "stream",
     "text": [
      "hello10\n"
     ]
    }
   ],
   "source": [
    "chuoi_a = \"hello\"\n",
    "chuoi_b = \"Mai Tùng\"\n",
    "c = 10\n",
    "\n",
    "chuoi_c = chuoi_a + str(c)\n",
    "\n",
    "print(chuoi_c)"
   ]
  },
  {
   "cell_type": "code",
   "execution_count": 91,
   "id": "c58ba77b",
   "metadata": {},
   "outputs": [
    {
     "name": "stdout",
     "output_type": "stream",
     "text": [
      "35 <class 'int'>\n",
      "1025 <class 'str'>\n"
     ]
    }
   ],
   "source": [
    "a = 10\n",
    "b = 25\n",
    "\n",
    "c = a + b\n",
    "d = str(a) + str(b)\n",
    "\n",
    "print(c, type(c))\n",
    "print(d, type(d))"
   ]
  },
  {
   "cell_type": "code",
   "execution_count": 95,
   "id": "f2a40721",
   "metadata": {},
   "outputs": [
    {
     "name": "stdout",
     "output_type": "stream",
     "text": [
      "True\n"
     ]
    }
   ],
   "source": [
    "##  toán tử so sánh\n",
    "\n",
    "chuoi_a = \"hello\"\n",
    "chuoi_b = \"hello\"\n",
    "\n",
    "ket_qua = chuoi_a == chuoi_b\n",
    "print(ket_qua)"
   ]
  },
  {
   "cell_type": "markdown",
   "id": "4164419c",
   "metadata": {},
   "source": [
    "### Một số lệnh xử lý String\n",
    "\n",
    "#### len – trả về độ dài của chuỗi\n",
    "\n",
    "Cú pháp:\n",
    "\n",
    "`len(chuỗi)`\n",
    "\n",
    "Kết quả trả về có kiểu dữ liệu là int (kiểu số nguyên)\n",
    "\n",
    "Ví dụ:"
   ]
  },
  {
   "cell_type": "code",
   "execution_count": 1,
   "id": "8abc373d",
   "metadata": {},
   "outputs": [
    {
     "name": "stdout",
     "output_type": "stream",
     "text": [
      "18\n"
     ]
    }
   ],
   "source": [
    "chuoi = \"Xin chào mọi người\"\n",
    "do_dai = len(chuoi)\n",
    "\n",
    "print(do_dai)"
   ]
  },
  {
   "cell_type": "code",
   "execution_count": 4,
   "id": "8672a8a2",
   "metadata": {},
   "outputs": [
    {
     "name": "stdout",
     "output_type": "stream",
     "text": [
      "19\n"
     ]
    }
   ],
   "source": [
    "chuoi = \"Xin \\nchào mọi người\"\n",
    "do_dai = len(chuoi)\n",
    "\n",
    "print(do_dai)"
   ]
  },
  {
   "cell_type": "markdown",
   "id": "2ecd6204",
   "metadata": {},
   "source": [
    "####  count – hàm trả về số lần chuỗi con có mặt trong chuỗi\n",
    "\n",
    "Cú pháp:\n",
    "\n",
    "`chuỗi.count(value)`\n",
    "\n",
    "Trong đó:\n",
    "\n",
    "- valve là giá trị chuỗi cần tìm\n",
    "\n",
    "Kết quả trả về có kiểu dữ liệu là int (kiểu số nguyên)\n",
    "\n",
    "Ví dụ:"
   ]
  },
  {
   "cell_type": "code",
   "execution_count": 1,
   "id": "a72b55aa",
   "metadata": {
    "scrolled": true
   },
   "outputs": [
    {
     "name": "stdout",
     "output_type": "stream",
     "text": [
      "4\n"
     ]
    }
   ],
   "source": [
    "chuoi_a = \"xin chào các bạn, xin chào mọi người\"\n",
    "dem = chuoi_a.count(\"n\")\n",
    "\n",
    "print(dem)"
   ]
  },
  {
   "cell_type": "markdown",
   "id": "1188b0c4",
   "metadata": {},
   "source": [
    "#### lower, upper – hàm chuyển đổi chuỗi về dạng in thường, in hoa\n",
    "\n",
    "Cú pháp:\n",
    "\n",
    "`chuỗi.lower()` hoặc `chuỗi.upper()`\n",
    "\n",
    "Cả 2 lệnh này đều trả về kết quả có kiểu dữ liệu là string (kiểu chuỗi)\n",
    "\n",
    "Ví dụ:"
   ]
  },
  {
   "cell_type": "code",
   "execution_count": 2,
   "id": "65886fc4",
   "metadata": {},
   "outputs": [
    {
     "name": "stdout",
     "output_type": "stream",
     "text": [
      "XIN CHÀO MỌI NGƯỜI\n"
     ]
    }
   ],
   "source": [
    "chuoi_a = \"xin cHào mỌi người\"\n",
    "chuoi_b = chuoi_a.upper()\n",
    "\n",
    "print(chuoi_b)"
   ]
  },
  {
   "cell_type": "code",
   "execution_count": 3,
   "id": "428ce6b7",
   "metadata": {},
   "outputs": [
    {
     "name": "stdout",
     "output_type": "stream",
     "text": [
      "xin chào mọi người\n"
     ]
    }
   ],
   "source": [
    "chuoi_a = \"xin cHào mỌi người\"\n",
    "chuoi_b = chuoi_a.lower()\n",
    "\n",
    "print(chuoi_b)"
   ]
  },
  {
   "cell_type": "code",
   "execution_count": null,
   "id": "00857d7e",
   "metadata": {},
   "outputs": [
    {
     "name": "stdout",
     "output_type": "stream",
     "text": [
      "a 0\n",
      "b 1\n",
      "c 2\n",
      "d 3\n",
      "e 4\n",
      "f 5\n",
      "hello\n",
      "hello\n",
      "hello\n",
      "hello\n",
      "hello\n",
      "hello\n",
      "hi\n"
     ]
    }
   ],
   "source": [
    "chuoi_a = \"abcdef\"\n",
    "\n",
    "for i in range(len(chuoi_a)):\n",
    "    print(chuoi_a[i], i)\n",
    "    \n",
    "print('hi')"
   ]
  },
  {
   "cell_type": "code",
   "execution_count": 12,
   "id": "c85c4ed7",
   "metadata": {},
   "outputs": [
    {
     "name": "stdout",
     "output_type": "stream",
     "text": [
      "0 a\n",
      "1 b\n",
      "2 c\n",
      "3 d\n",
      "4 e\n",
      "5 f\n"
     ]
    }
   ],
   "source": [
    "chuoi_a = \"abcdef\"\n",
    "\n",
    "print(0, chuoi_a[0])\n",
    "print(1, chuoi_a[1])\n",
    "print(2, chuoi_a[2])\n",
    "print(3, chuoi_a[3])\n",
    "print(4, chuoi_a[4])\n",
    "print(5, chuoi_a[5])"
   ]
  },
  {
   "cell_type": "markdown",
   "id": "17165efa",
   "metadata": {},
   "source": [
    "##### Tài liệu tham khảo thêm về chuỗi: https://www.w3schools.com/python/python_strings.asp\n",
    "\n",
    "### Khai báo chuỗi có dấu nháy đơn (hoặc nháy kép)\n",
    "\n",
    "Cách thứ 1"
   ]
  },
  {
   "cell_type": "code",
   "execution_count": 20,
   "id": "256b911c",
   "metadata": {},
   "outputs": [
    {
     "name": "stdout",
     "output_type": "stream",
     "text": [
      "Bác Hồ có câu \"Không có gì quý hơn độc lập tự do\"\n"
     ]
    }
   ],
   "source": [
    "chuoi = 'Bác Hồ có câu \"Không có gì quý hơn độc lập tự do\"'\n",
    "print(chuoi)"
   ]
  },
  {
   "cell_type": "markdown",
   "id": "72550e88",
   "metadata": {},
   "source": [
    "Cách thứ 2"
   ]
  },
  {
   "cell_type": "code",
   "execution_count": 21,
   "id": "61749645",
   "metadata": {
    "scrolled": true
   },
   "outputs": [
    {
     "name": "stdout",
     "output_type": "stream",
     "text": [
      "I'm batman\n"
     ]
    }
   ],
   "source": [
    "chuoi = \"I'm batman\"\n",
    "print(chuoi)"
   ]
  },
  {
   "cell_type": "code",
   "execution_count": 22,
   "id": "087f9324",
   "metadata": {},
   "outputs": [
    {
     "name": "stdout",
     "output_type": "stream",
     "text": [
      "Bác Hồ có câu \"Không có gì quý hơn độc lập tự do\"\n"
     ]
    }
   ],
   "source": [
    "chuoi = \"Bác Hồ có câu \\\"Không có gì quý hơn độc lập tự do\\\"\"\n",
    "print(chuoi)"
   ]
  },
  {
   "cell_type": "markdown",
   "id": "5f038087",
   "metadata": {},
   "source": [
    "### Fun fact\n",
    "\n",
    "Kiểu dữ liệu chuỗi là một kiểu dữ liệu tốn khá nhiều tài nguyên RAM của máy\n",
    "\n",
    "1 ký tự được lưu trong chuỗi, chúng ta sẽ cần 1 byte RAM\n",
    "\n",
    "##### *1KB = 1024 Byte\n",
    "##### *1MB = 1024 KByte\n",
    "##### *1GB = 1024 MByte\n",
    "##### *1TB = 1024 GByte\n",
    "\n",
    "Hãy lập trình một đoạn, tính toán và in ra 1TB thì bằng:\n",
    "Bao nhiêu Byte?\n",
    "Bao nhiêu KB?\n",
    "Bao nhiêu MB?\n",
    "Bao nhiêu GB?"
   ]
  },
  {
   "cell_type": "code",
   "execution_count": 23,
   "id": "e0df75e1",
   "metadata": {},
   "outputs": [
    {
     "name": "stdout",
     "output_type": "stream",
     "text": [
      "1TB = 1024GB\n",
      "1TB = 1048576MB\n",
      "1TB = 1073741824KB\n",
      "1TB = 1099511627776Byte\n"
     ]
    }
   ],
   "source": [
    "TB = 1\n",
    "GB = TB*1024\n",
    "MB = GB*1024\n",
    "KB = MB*1024\n",
    "Byte = KB*1024\n",
    "\n",
    "print(\"1TB = \", GB, \"GB\", sep=\"\")\n",
    "print(\"1TB = \", MB, \"MB\", sep=\"\")\n",
    "print(\"1TB = \", KB, \"KB\", sep=\"\")\n",
    "print(\"1TB = \", Byte, \"Byte\", sep=\"\")"
   ]
  },
  {
   "cell_type": "markdown",
   "id": "71059d0a",
   "metadata": {},
   "source": [
    "# Bài tập\n",
    "\n",
    "Nhập vào một địa chỉ email, kiểm tra xem địa chỉ email đó có đúng cú pháp hay không, và có phải là email được đăng ký từ gmail hay không!\n",
    "\n",
    "In ra kết quả là True hay False cho từng yêu cầu!\n",
    "\n",
    "(Email đúng cú pháp là email chỉ có duy nhất 1 ký tự @)"
   ]
  },
  {
   "cell_type": "code",
   "execution_count": 31,
   "id": "85d8a019",
   "metadata": {},
   "outputs": [
    {
     "name": "stdout",
     "output_type": "stream",
     "text": [
      "abc@abc@gmail.com \n",
      "Đây là email: False\n",
      "Đây là gmail: False\n"
     ]
    }
   ],
   "source": [
    "email = input(\"Nhập email: \")\n",
    "ket_qua = email.count(\"@\") == 1\n",
    "ket_qua_2 = ket_qua and email.endswith(\"@gmail.com\")\n",
    "\n",
    "print(email)\n",
    "print(\"Đây là email:\", ket_qua)\n",
    "print(\"Đây là gmail:\", ket_qua_2)"
   ]
  },
  {
   "cell_type": "code",
   "execution_count": 30,
   "id": "9ecd6a6f",
   "metadata": {},
   "outputs": [
    {
     "name": "stdout",
     "output_type": "stream",
     "text": [
      "abc@yahoo.com\n",
      "Đây là email: True\n",
      "Đây là gmail: False\n"
     ]
    }
   ],
   "source": [
    "email = input(\"Nhập email: \")\n",
    "ket_qua = email.count(\"@\") == 1\n",
    "ket_qua_2 = ket_qua and email[-10:] == \"@gmail.com\"\n",
    "\n",
    "print(email)\n",
    "print(\"Đây là email:\", ket_qua)\n",
    "print(\"Đây là gmail:\", ket_qua_2)"
   ]
  }
 ],
 "metadata": {
  "kernelspec": {
   "display_name": "linhtinh",
   "language": "python",
   "name": "python3"
  },
  "language_info": {
   "codemirror_mode": {
    "name": "ipython",
    "version": 3
   },
   "file_extension": ".py",
   "mimetype": "text/x-python",
   "name": "python",
   "nbconvert_exporter": "python",
   "pygments_lexer": "ipython3",
   "version": "3.12.11"
  }
 },
 "nbformat": 4,
 "nbformat_minor": 5
}
