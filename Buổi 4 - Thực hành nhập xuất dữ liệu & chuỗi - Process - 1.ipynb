{
 "cells": [
  {
   "cell_type": "markdown",
   "id": "5bc93fb0",
   "metadata": {},
   "source": [
    "# Thực hành nhập xuất dữ liệu & chuỗi\n",
    "\n",
    "### Bài tập tra cứu lệnh\n",
    "\n",
    "Nhập vào một chuỗi, kiểm tra xem chuỗi đó có ký tự nào là chữ in hoa hay không, nếu có thì in True, không có thì in False"
   ]
  },
  {
   "cell_type": "code",
   "execution_count": null,
   "id": "4b3df2ba",
   "metadata": {},
   "outputs": [
    {
     "name": "stdout",
     "output_type": "stream",
     "text": [
      "SDASKDJKSkadksaldk\n",
      "False\n"
     ]
    }
   ],
   "source": [
    "### chuỗi này chỉ bao gồm các ký tự chữ\n",
    "### nếu chuỗi có ít nhất 1 ký tự in hoa ~~> in True\n",
    "### nếu chuỗi không có chữ in hoa nào ~~> in False\n",
    "\n",
    "chuoi = input(\"Nhập chuỗi:\")\n",
    "\n",
    "co_ky_tu_in_hoa = False\n",
    "for i in range(len(chuoi)):\n",
    "    co_ky_tu_in_hoa = co_ky_tu_in_hoa or chuoi[i].isupper()\n",
    "\n",
    "print(chuoi)\n",
    "print(co_ky_tu_in_hoa)"
   ]
  },
  {
   "cell_type": "code",
   "execution_count": null,
   "id": "182b83dd",
   "metadata": {},
   "outputs": [],
   "source": [
    "### fkdajkfjdkSdjskadsS ~~> True\n",
    "### SDASKDJKSkadksaldk ~~> False\n",
    "\n",
    "\n",
    "### aAb\n",
    "##### co_ky_tu_in_hoa = False or False = False\n",
    "##### co_ky_tu_in_hoa = False or True = True\n",
    "##### co_ky_tu_in_hoa = True or False = True"
   ]
  },
  {
   "cell_type": "code",
   "execution_count": 5,
   "id": "2fb334ba",
   "metadata": {},
   "outputs": [
    {
     "name": "stdout",
     "output_type": "stream",
     "text": [
      "fdnsfamldfkdDjfdkfld\n",
      "True\n"
     ]
    }
   ],
   "source": [
    "### islower \n",
    "##### ~~> nếu tất cả thường : True\n",
    "##### ~~> nếu có 1 hoa : False\n",
    "\n",
    "### isupper\n",
    "##### ~~> nếu tất cả hoa : True\n",
    "##### ~~> nếu có 1 thường : False\n",
    "\n",
    "### đề yêu cầu\n",
    "##### ~~> nếu tất cả thường : False\n",
    "##### ~~> nếu có 1 hoa : True\n",
    "\n",
    "chuoi = input(\"Nhập chuỗi:\")\n",
    "\n",
    "ket_qua = not chuoi.islower()\n",
    "print(chuoi)\n",
    "print(ket_qua)"
   ]
  },
  {
   "cell_type": "markdown",
   "id": "e14eae7c",
   "metadata": {},
   "source": [
    "Nhập vào một chuỗi, kiểm tra xem chuỗi đó có ký tự nào là chữ in thường hay không, nếu có thì in True, không có thì in False"
   ]
  },
  {
   "cell_type": "code",
   "execution_count": 9,
   "id": "ab00180c",
   "metadata": {},
   "outputs": [
    {
     "name": "stdout",
     "output_type": "stream",
     "text": [
      "KDLSAJKLDJS\n",
      "False\n"
     ]
    }
   ],
   "source": [
    "chuoi = input(\"Nhập chuỗi:\")\n",
    "\n",
    "ket_qua = not chuoi.isupper()\n",
    "print(chuoi)\n",
    "print(ket_qua)"
   ]
  },
  {
   "cell_type": "markdown",
   "id": "eab86ecf",
   "metadata": {},
   "source": [
    "Nhập vào một chuỗi a và chuỗi b, tìm vị trí đầu tiên xuất hiện chuỗi b trong chuỗi a"
   ]
  },
  {
   "cell_type": "code",
   "execution_count": 10,
   "id": "051eb4af",
   "metadata": {},
   "outputs": [
    {
     "name": "stdout",
     "output_type": "stream",
     "text": [
      "18\n"
     ]
    }
   ],
   "source": [
    "chuoi_a = \"Xin chào các bạn, xin chào mọi xin người\"\n",
    "chuoi_b = \"xin\"\n",
    "\n",
    "ket_qua = chuoi_a.find(chuoi_b)\n",
    "print(ket_qua)"
   ]
  },
  {
   "cell_type": "markdown",
   "id": "9239bc4e",
   "metadata": {},
   "source": [
    "Nhập vào một chuỗi a, hãy xóa từ đầu tiên trong chuỗi a, rồi in ra màn hình"
   ]
  },
  {
   "cell_type": "code",
   "execution_count": 4,
   "id": "90967cd9",
   "metadata": {},
   "outputs": [
    {
     "name": "stdout",
     "output_type": "stream",
     "text": [
      "xin chào các bạn\n",
      "chào các bạn\n"
     ]
    }
   ],
   "source": [
    "### \"xin chào mọi người\" ~~> \"chào mọi người\"\n",
    "\n",
    "##### B1: Thu thập thông tin\n",
    "####### Khái niệm từ đầu tiên là gì???\n",
    "####### Từ đầu tiên bao gồm toàn bộ ký tự trước dấu cách đầu tiên\n",
    "##### B2: Lập luận\n",
    "##### Nhiệm vụ: Lấy toàn bộ ký tự đầu tiên ~~> cần công cụ (lệnh, toán tử,...)\n",
    "##### để lấy toàn bộ ký tự trước dấu cách đầu tiên\n",
    "####### cắt chuỗi\n",
    "####### dùng thử cắt chuỗi ~~> để cắt được chuỗi những ký tự trước dấu cách đầu tiên\n",
    "####### chuoi_duoc_cat = chuoi[:?]\n",
    "####### là cần điền vào dấu ? vị trí của dấu cách đầu tiên\n",
    "####### làm sao để tìm được vị trí của dấu cách đầu tiên??\n",
    "####### dau_cach_dau_tien = chuoi.find(\" \")\n",
    "\n",
    "chuoi = input(\"Nhập vào chuỗi:\")\n",
    "dau_cach_dau_tien = chuoi.find(\" \")\n",
    "\n",
    "chuoi_duoc_cat = chuoi[dau_cach_dau_tien + 1:]\n",
    "print(chuoi)\n",
    "print(chuoi_duoc_cat)"
   ]
  },
  {
   "cell_type": "markdown",
   "id": "05b74fb4",
   "metadata": {},
   "source": [
    "### Bài 1\n",
    "\n",
    "Nhập vào một chuỗi, đếm xem có bao nhiêu từ trong chuỗi kết thúc bằng chữ n"
   ]
  },
  {
   "cell_type": "code",
   "execution_count": 9,
   "id": "d126675c",
   "metadata": {},
   "outputs": [
    {
     "name": "stdout",
     "output_type": "stream",
     "text": [
      "xin chào các bạn, xin chào mọi người, các bạn \n",
      "4\n"
     ]
    }
   ],
   "source": [
    "### chuỗi nhập vào chỉ có 2 ký tự đặc biệt là chấm (.) và dấu phẩy (,)\n",
    "\n",
    "### Xin chào các bạn, xin chào mọi người\n",
    "\n",
    "### B1: Thu thập thông tin\n",
    "##### Từ kết thúc bằng chữ n là gì???\n",
    "##### là từ đó có chữ n đứng trước dấu cách hoặc đứng cuối chuỗi\n",
    "### B2: Lập luận\n",
    "### Đếm xem có bao nhiêu từ kết thúc bằng chữ n ~~> đếm xem có bao nhiêu\n",
    "### chuỗi \"n \"\n",
    "\n",
    "chuoi = input(\"Nhập chuỗi:\")\n",
    "\n",
    "chuoi = chuoi + \" \"\n",
    "dem = chuoi.count(\"n \") + chuoi.count(\"n,\") + chuoi.count(\"n.\")\n",
    "\n",
    "print(chuoi)\n",
    "print(dem)"
   ]
  },
  {
   "cell_type": "markdown",
   "id": "53a78d35",
   "metadata": {},
   "source": [
    "### Bài 2\n",
    "\n",
    "Nhập vào một chuỗi, kiểm tra xem chuỗi đó có ký tự hoa hoặc ký tự thường hay không."
   ]
  },
  {
   "cell_type": "code",
   "execution_count": null,
   "id": "f5be8c39",
   "metadata": {},
   "outputs": [],
   "source": [
    "### bỏ qua, không cần làm"
   ]
  },
  {
   "cell_type": "markdown",
   "id": "64ca662e",
   "metadata": {},
   "source": [
    "### Bài 3\n",
    "\n",
    "Nhập vào một chuỗi, kiểm tra tính đối xứng của chuỗi đó"
   ]
  },
  {
   "cell_type": "code",
   "execution_count": null,
   "id": "749f4136",
   "metadata": {},
   "outputs": [
    {
     "name": "stdout",
     "output_type": "stream",
     "text": [
      "Nhập vào một chuỗi:123454231\n",
      "False\n"
     ]
    }
   ],
   "source": [
    "### 123454321 ~~> True\n",
    "### 123454231 ~~> False"
   ]
  },
  {
   "cell_type": "markdown",
   "id": "85dd8fef",
   "metadata": {},
   "source": [
    "### Bài 4\n",
    "\n",
    "Nhập vào một chuỗi, in ra các ký tự trong chuỗi và nếu là ký tự hoa thì in kèm True, ký tự thường thì in kèm False"
   ]
  },
  {
   "cell_type": "code",
   "execution_count": null,
   "id": "0d099247",
   "metadata": {},
   "outputs": [],
   "source": [
    "### bỏ qua"
   ]
  },
  {
   "cell_type": "markdown",
   "id": "1373dc74",
   "metadata": {},
   "source": [
    "### Bài 5\n",
    "\n",
    "Nhập vào một chuỗi, tìm các ký tự chỉ xuất hiện một lần trong chuỗi (nếu xuất hiện 1 lần in true, xuất hiện nhiều lần in false)\n",
    "\n",
    "Ví dụ:\n",
    "\n",
    "Nhập chuỗi: \"ABAbc\"\n",
    "\n",
    "In:\n",
    "\n",
    "A: False\n",
    "\n",
    "B: True\n",
    "\n",
    "A: False\n",
    "\n",
    "b: True\n",
    "\n",
    "c: True"
   ]
  },
  {
   "cell_type": "code",
   "execution_count": null,
   "id": "a93bc53d",
   "metadata": {},
   "outputs": [],
   "source": [
    "### bỏ qua"
   ]
  },
  {
   "cell_type": "markdown",
   "id": "69bebf4c",
   "metadata": {},
   "source": [
    "### Bài 6\n",
    "\n",
    "Nhập vào một chuỗi, kiểm tra trong chuỗi có con số hay không, nếu có in True, không có in False"
   ]
  },
  {
   "cell_type": "code",
   "execution_count": null,
   "id": "1b4eab4f",
   "metadata": {},
   "outputs": [],
   "source": [
    "### kasjkdjskadjk494Sdsad ~~> True\n",
    "### kfdjkfjskfjdskfkj ~~> False "
   ]
  },
  {
   "cell_type": "markdown",
   "id": "1e51403c",
   "metadata": {},
   "source": [
    "### Bài 7\n",
    "\n",
    "Nhập vào một chuỗi, tách những con số có trong chuỗi ra rồi tính tổng của chúng\n",
    "\n",
    "In tổng lên màn hình"
   ]
  },
  {
   "cell_type": "code",
   "execution_count": 11,
   "id": "a34e349d",
   "metadata": {},
   "outputs": [
    {
     "name": "stdout",
     "output_type": "stream",
     "text": [
      "kfdjkfjskfjdskfkj\n",
      "0\n"
     ]
    }
   ],
   "source": [
    "### kasjkdjsk5adjk494Sdsad ~~> 5 + 4 + 9 + 4 = 22\n",
    "### kfdjkfjskfjdskfkj ~~> 0\n",
    "\n",
    "### Không cần dùng lệnh for, dùng count và phép toán *\n",
    "\n",
    "chuoi = input(\"nhập chuỗi: \")\n",
    "\n",
    "dem1 = chuoi.count(\"1\")\n",
    "dem2 = chuoi.count(\"2\")\n",
    "dem3 = chuoi.count(\"3\")\n",
    "dem4 = chuoi.count(\"4\")\n",
    "dem5 = chuoi.count(\"5\")\n",
    "dem6 = chuoi.count(\"6\")\n",
    "dem7 = chuoi.count(\"7\")\n",
    "dem8 = chuoi.count(\"8\")\n",
    "dem9 = chuoi.count(\"9\")\n",
    "\n",
    "tong = dem1*1 + dem2*2 + dem3*3 + dem4*4 + dem5*5 + dem6*6 + dem7*7 + dem8*8 + dem9*9\n",
    "\n",
    "print(chuoi)\n",
    "print(tong)"
   ]
  },
  {
   "cell_type": "markdown",
   "id": "e951779d",
   "metadata": {},
   "source": [
    "### Bài 8\n",
    "\n",
    "Nhập vào một chuỗi, đảo ngược chuỗi đã nhập rồi in ra màn hình"
   ]
  },
  {
   "cell_type": "code",
   "execution_count": null,
   "id": "9305f0f1",
   "metadata": {},
   "outputs": [],
   "source": [
    "### bỏ qua"
   ]
  },
  {
   "cell_type": "markdown",
   "id": "04194b5c",
   "metadata": {},
   "source": [
    "### Bài 9\n",
    "\n",
    "Nhập vào một chuỗi, kiểm tra xem mỗi từ trong chuỗi có được viết hoa chữ cái đầu hay không, nếu tất cả đều được viết hoa thì in ra True, còn không thì in ra False\n",
    "\n",
    "Trong trường hợp là False, hãy viết hoa tất cả các chữ cái đầu của mỗi từ rồi in lên màn hình\n",
    "\n",
    "Cách làm thông thường:"
   ]
  },
  {
   "cell_type": "code",
   "execution_count": null,
   "id": "9f947c7d",
   "metadata": {},
   "outputs": [],
   "source": []
  },
  {
   "cell_type": "markdown",
   "id": "f43e32af",
   "metadata": {},
   "source": [
    "Cách sử dụng lệnh có sẵn:"
   ]
  },
  {
   "cell_type": "code",
   "execution_count": null,
   "id": "714f1412",
   "metadata": {},
   "outputs": [],
   "source": []
  }
 ],
 "metadata": {
  "kernelspec": {
   "display_name": "linhtinh",
   "language": "python",
   "name": "python3"
  },
  "language_info": {
   "codemirror_mode": {
    "name": "ipython",
    "version": 3
   },
   "file_extension": ".py",
   "mimetype": "text/x-python",
   "name": "python",
   "nbconvert_exporter": "python",
   "pygments_lexer": "ipython3",
   "version": "3.12.11"
  }
 },
 "nbformat": 4,
 "nbformat_minor": 5
}
