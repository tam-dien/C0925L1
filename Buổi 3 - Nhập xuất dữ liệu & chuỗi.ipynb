{
 "cells": [
  {
   "cell_type": "markdown",
   "id": "f29a38a7",
   "metadata": {},
   "source": [
    "# Nhập xuất dữ liệu và chuỗi (String)\n",
    "\n",
    "### Xuất dữ liệu\n",
    "\n",
    "Lệnh `print()` là lệnh giúp python xuất dữ liệu ra màn hình\n",
    "\n",
    "Cú pháp:\n",
    "\n",
    "`print(*object, sep=' ', end='\\n')`\n",
    "\n",
    "Trong đó:\n",
    "\n",
    "- objects – là các giá trị sẽ được xuất ra màn hình\n",
    "- sep – phân cách giữa các giá trị. Giá trị mặc định của sep là một khoảng trắng.\n",
    "- end – là kí tự được in ra sau khi các giá trị của objects đã được in. Mặc định của end là ‘\\n’ – xuống dòng mới.\n",
    "##### objects có thể là nhiều giá trị, mỗi giá trị cách nhau một dấu phẩy\n",
    "\n",
    "Ví dụ:\n",
    "\n",
    "`print(\"Hello\",\"mọi người\")`\n",
    "\n",
    "Ở đây, objects là \"HEllo\" và \"mọi người\"\n",
    "\n",
    "##### Đọc thêm tài liệu tại đây: https://www.w3schools.com/python/ref_func_print.asp\n",
    "\n",
    "Thực hiện một lệnh print với objects có một giá trị là biến:"
   ]
  },
  {
   "cell_type": "code",
   "execution_count": null,
   "id": "11a17883",
   "metadata": {},
   "outputs": [],
   "source": []
  },
  {
   "cell_type": "markdown",
   "id": "a4059434",
   "metadata": {},
   "source": [
    "Thực hiện một lệnh print có sep là '\\t':"
   ]
  },
  {
   "cell_type": "code",
   "execution_count": null,
   "id": "32e919bf",
   "metadata": {},
   "outputs": [],
   "source": []
  },
  {
   "cell_type": "markdown",
   "id": "9464ce38",
   "metadata": {},
   "source": [
    "Thực hiện một lệnh print có end là '.':"
   ]
  },
  {
   "cell_type": "code",
   "execution_count": null,
   "id": "5402d151",
   "metadata": {},
   "outputs": [],
   "source": []
  },
  {
   "cell_type": "markdown",
   "id": "59249269",
   "metadata": {},
   "source": [
    "### Nhập dữ liệu\n",
    "\n",
    "Lệnh `input()` là lệnh giúp python nhận dữ liệu nhập từ bàn phím\n",
    "\n",
    "Cú pháp:\n",
    "\n",
    "`input(prompt)`\n",
    "\n",
    "Trong đó:\n",
    "\n",
    "- prompt là nội dung in ra màn hình\n",
    "\n",
    "Giá trị trả về của lệnh `input()` mang kiểu dữ liệu là String (chuỗi)\n",
    "\n",
    "Thực hiện doạn lệnh yêu cầu nhập vào tên người dùng, sau đó in ra dòng chữ \"Xin chào [tên người dùng]\":"
   ]
  },
  {
   "cell_type": "code",
   "execution_count": null,
   "id": "7ec6f3e7",
   "metadata": {},
   "outputs": [],
   "source": []
  },
  {
   "cell_type": "markdown",
   "id": "c3af4a74",
   "metadata": {},
   "source": [
    "Thực hiện một đoạn lệnh yêu cầu nhập vào bán kính một đường tròn, sau đó in ra diện tích và chu vi hình tròn đó"
   ]
  },
  {
   "cell_type": "code",
   "execution_count": null,
   "id": "31fb49da",
   "metadata": {},
   "outputs": [],
   "source": []
  },
  {
   "cell_type": "markdown",
   "id": "3cafd94d",
   "metadata": {},
   "source": [
    "### Chuỗi dữ liệu\n",
    "\n",
    "Khai báo chuỗi:\n",
    "    \n",
    "`chuoi = \"hello, chuỗi rất thú vị!!\"`\n",
    "\n",
    "Trong python, chuỗi có thể được đặt trong hai dấu nháy đơn, hoặc hai dấu nháy kép\n",
    "\n",
    "### Truy xuất ký tự trong chuỗi\n",
    "\n",
    "Cú pháp:\n",
    "\n",
    "`chuỗi[vị trí]`\n",
    "\n",
    "Vị trí bắt đầu là 0\n",
    "\n",
    "Vị trí cuối cùng của chuỗi là -1\n",
    "\n",
    "Ví dụ:"
   ]
  },
  {
   "cell_type": "code",
   "execution_count": null,
   "id": "cfc295a3",
   "metadata": {
    "scrolled": true
   },
   "outputs": [],
   "source": []
  },
  {
   "cell_type": "markdown",
   "id": "e95f15c5",
   "metadata": {},
   "source": [
    "### Cắt chuỗi\n",
    "\n",
    "Cú pháp:\n",
    "\n",
    "`chuỗi[a: b]`\n",
    "\n",
    "Trong đó\n",
    "- a là vị trí đầu\n",
    "- b là vị trí cuối +1\n"
   ]
  },
  {
   "cell_type": "code",
   "execution_count": null,
   "id": "62e282e8",
   "metadata": {},
   "outputs": [],
   "source": []
  },
  {
   "cell_type": "markdown",
   "id": "20c24da7",
   "metadata": {},
   "source": [
    "### Toán tử với chuỗi\n",
    "\n",
    "#### Toán tử +\n",
    "\n",
    "Toán tử + giúp gắn liền 2 chuỗi:\n",
    "\n",
    "Ví dụ:"
   ]
  },
  {
   "cell_type": "code",
   "execution_count": null,
   "id": "4402ddc9",
   "metadata": {},
   "outputs": [],
   "source": []
  },
  {
   "cell_type": "markdown",
   "id": "4cd1ccf7",
   "metadata": {},
   "source": [
    "#### Toán tử *\n",
    "\n",
    "Toán tử * giúp lặp lại đoạn chuỗi\n",
    "\n",
    "Ví dụ:"
   ]
  },
  {
   "cell_type": "code",
   "execution_count": null,
   "id": "786a37a7",
   "metadata": {},
   "outputs": [],
   "source": []
  },
  {
   "cell_type": "markdown",
   "id": "4164419c",
   "metadata": {},
   "source": [
    "### Một số lệnh xử lý String\n",
    "\n",
    "#### len – trả về độ dài của chuỗi\n",
    "\n",
    "Cú pháp:\n",
    "\n",
    "`len(chuỗi)`\n",
    "\n",
    "Kết quả trả về có kiểu dữ liệu là int (kiểu số nguyên)\n",
    "\n",
    "Ví dụ:"
   ]
  },
  {
   "cell_type": "code",
   "execution_count": null,
   "id": "8abc373d",
   "metadata": {},
   "outputs": [],
   "source": []
  },
  {
   "cell_type": "markdown",
   "id": "2ecd6204",
   "metadata": {},
   "source": [
    "####  count – hàm trả về số lần chuỗi con có mặt trong chuỗi\n",
    "\n",
    "Cú pháp:\n",
    "\n",
    "`chuỗi.count(value)`\n",
    "\n",
    "Trong đó:\n",
    "\n",
    "- valve là giá trị chuỗi cần tìm\n",
    "\n",
    "Kết quả trả về có kiểu dữ liệu là int (kiểu số nguyên)\n",
    "\n",
    "Ví dụ:"
   ]
  },
  {
   "cell_type": "code",
   "execution_count": null,
   "id": "a72b55aa",
   "metadata": {
    "scrolled": true
   },
   "outputs": [],
   "source": []
  },
  {
   "cell_type": "markdown",
   "id": "1188b0c4",
   "metadata": {},
   "source": [
    "#### lower, upper – hàm chuyển đổi chuỗi về dạng in thường, in hoa\n",
    "\n",
    "Cú pháp:\n",
    "\n",
    "`chuỗi.lower()` hoặc `chuỗi.upper()`\n",
    "\n",
    "Cả 2 lệnh này đều trả về kết quả có kiểu dữ liệu là string (kiểu chuỗi)\n",
    "\n",
    "Ví dụ:"
   ]
  },
  {
   "cell_type": "code",
   "execution_count": null,
   "id": "65886fc4",
   "metadata": {},
   "outputs": [],
   "source": []
  },
  {
   "cell_type": "markdown",
   "id": "17165efa",
   "metadata": {},
   "source": [
    "##### Tài liệu tham khảo thêm về chuỗi: https://www.w3schools.com/python/python_strings.asp\n",
    "\n",
    "### Khai báo chuỗi có dấu nháy đơn (hoặc nháy kép)\n",
    "\n",
    "Cách thứ 1"
   ]
  },
  {
   "cell_type": "code",
   "execution_count": null,
   "id": "256b911c",
   "metadata": {},
   "outputs": [],
   "source": []
  },
  {
   "cell_type": "markdown",
   "id": "72550e88",
   "metadata": {},
   "source": [
    "Cách thứ 2"
   ]
  },
  {
   "cell_type": "code",
   "execution_count": null,
   "id": "61749645",
   "metadata": {
    "scrolled": true
   },
   "outputs": [],
   "source": []
  },
  {
   "cell_type": "markdown",
   "id": "5f038087",
   "metadata": {},
   "source": [
    "### Fun fact\n",
    "\n",
    "Kiểu dữ liệu chuỗi là một kiểu dữ liệu tốn khá nhiều tài nguyên RAM của máy\n",
    "\n",
    "1 ký tự được lưu trong chuỗi, chúng ta sẽ cần 1 byte RAM\n",
    "\n",
    "##### *1KB = 1024 Byte\n",
    "##### *1MB = 1024 KByte\n",
    "##### *1GB = 1024 MByte\n",
    "##### *1TB = 1024 GByte\n",
    "\n",
    "Hãy lập trình một đoạn, tính toán và in ra 1TB thì bằng:\n",
    "Bao nhiêu Byte?\n",
    "Bao nhiêu KB?\n",
    "Bao nhiêu MB?\n",
    "Bao nhiêu GB?"
   ]
  },
  {
   "cell_type": "code",
   "execution_count": null,
   "id": "e0df75e1",
   "metadata": {},
   "outputs": [],
   "source": []
  },
  {
   "cell_type": "markdown",
   "id": "71059d0a",
   "metadata": {},
   "source": [
    "# Bài tập\n",
    "\n",
    "Nhập vào một địa chỉ email, kiểm tra xem địa chỉ email đó có đúng cú pháp hay không, và có phải là email được đăng ký từ gmail hay không!\n",
    "\n",
    "In ra kết quả là True hay False cho từng yêu cầu!\n",
    "\n",
    "(Email đúng cú pháp là email chỉ có duy nhất 1 ký tự @)"
   ]
  },
  {
   "cell_type": "code",
   "execution_count": null,
   "id": "85d8a019",
   "metadata": {},
   "outputs": [],
   "source": []
  }
 ],
 "metadata": {
  "kernelspec": {
   "display_name": "Python 3 (ipykernel)",
   "language": "python",
   "name": "python3"
  },
  "language_info": {
   "codemirror_mode": {
    "name": "ipython",
    "version": 3
   },
   "file_extension": ".py",
   "mimetype": "text/x-python",
   "name": "python",
   "nbconvert_exporter": "python",
   "pygments_lexer": "ipython3",
   "version": "3.10.1"
  }
 },
 "nbformat": 4,
 "nbformat_minor": 5
}
