{
 "cells": [
  {
   "cell_type": "markdown",
   "id": "fad0ff18",
   "metadata": {},
   "source": [
    "# List\n",
    "\n",
    "### Đặt vấn đề\n",
    "\n",
    "Nếu như ta có một lượng dữ liệu không biết trước được số lượng cần lưu vào biến, ta không thể lưu bằng cách thông thường\n",
    "\n",
    "Lấy ví dụ:\n",
    "\n",
    "Nhập vào số n, sau đó nhập tiếp n số và lưu trữ n số đó vào biến\n",
    "\n",
    "Vậy ta hoàn toàn không biết được người dùng sẽ nhập bao nhiêu số để lưu trữ\n",
    "\n",
    "Lúc này ta cần đến List\n",
    "\n",
    "List giúp chúng ta lưu nhiều giá trị cùng 1 lúc, nhưng chỉ cần đặt tên cho nó lần\n",
    "\n",
    "##### Tài liệu tham khảo: https://www.w3schools.com/python/python_lists.asp"
   ]
  },
  {
   "cell_type": "markdown",
   "id": "4ca9e91e",
   "metadata": {},
   "source": [
    "### Cách thức khai báo List\n",
    "\n",
    "Cú pháp:\n",
    "\n",
    "`<tên list> = []`\n",
    "\n",
    "##### List được khai báo bằng 2 dấu ngoặc vuông\n",
    "\n",
    "<b> Ví dụ 1: </b>\n",
    "\n",
    "`a = []`\n",
    "\n",
    "a là một list, không có bất kỳ phần tử nào trong đó\n",
    "\n",
    "<b> Ví dụ 2: </b>\n",
    "\n",
    "`b = [1,2,3]`\n",
    "\n",
    "##### Các phần tử trong list được khai báo, mỗi phần tử cách nhau một dấu phẩy\n",
    "\n",
    "b là một list có 3 phần tử\n",
    "\n",
    "<b> Ví dụ 3: </b>\n",
    "\n",
    "`c = [\"abc\",5,1.5]`\n",
    "\n",
    "##### Các phần tử trong list có thể có những kiểu dữ liệu khác nhau\n",
    "\n",
    "c là một list có 3 phần tử, phần tử thứ nhất có kiểu dữ liệu là chuỗi, phần tử thứ hai có kiểu dữ liệu là số nguyên và phần tử cuối cùng có kiểu dữ liệu là số thực\n",
    "\n",
    "<b> Hãy khai báo một list xong rồi in list đó lên màn hình </b>"
   ]
  },
  {
   "cell_type": "code",
   "execution_count": 1,
   "id": "c2f37351",
   "metadata": {},
   "outputs": [
    {
     "name": "stdout",
     "output_type": "stream",
     "text": [
      "<class 'list'>\n"
     ]
    }
   ],
   "source": [
    "list_a = []\n",
    "print(type(list_a))"
   ]
  },
  {
   "cell_type": "code",
   "execution_count": 3,
   "id": "85e22409",
   "metadata": {},
   "outputs": [
    {
     "name": "stdout",
     "output_type": "stream",
     "text": [
      "[2, 3, 4]\n"
     ]
    }
   ],
   "source": [
    "list_a = [2, 3, 4]\n",
    "print(list_a)"
   ]
  },
  {
   "cell_type": "code",
   "execution_count": 2,
   "id": "f8acdfad",
   "metadata": {},
   "outputs": [
    {
     "name": "stdout",
     "output_type": "stream",
     "text": [
      "['hello', 'xin chào', 7, 10.5]\n"
     ]
    }
   ],
   "source": [
    "list_a = [\"hello\", \"xin chào\", 7, 10.5]\n",
    "print(list_a)"
   ]
  },
  {
   "cell_type": "markdown",
   "id": "be8e19b0",
   "metadata": {},
   "source": [
    "### Truy xuất phần tử trong List\n",
    "\n",
    "Giống như chuỗi, các phần tử trong list được truy xuất theo cú pháp:\n",
    "\n",
    "<code>\\<tên list\\>[\\<vị trí của phần tử\\>]</code>\n",
    "\n",
    "<b> Ví dụ 1: </b>\n",
    "\n",
    "```\n",
    "a = [1,4,6]\n",
    "print(a[1])\n",
    "```\n",
    "\n",
    "Màn hình sẽ in ra 4\n",
    "\n",
    "<b> Hãy khai báo một list có một chuỗi và một số rồi in chuỗi trong list đó ra màn hình </b>"
   ]
  },
  {
   "cell_type": "code",
   "execution_count": 4,
   "id": "b3f027f0",
   "metadata": {},
   "outputs": [
    {
     "name": "stdout",
     "output_type": "stream",
     "text": [
      "1\n"
     ]
    }
   ],
   "source": [
    "list_a = [1, 4, 6]\n",
    "b = list_a[0]\n",
    "\n",
    "print(b)"
   ]
  },
  {
   "cell_type": "code",
   "execution_count": 5,
   "id": "a4802a5f",
   "metadata": {},
   "outputs": [
    {
     "name": "stdout",
     "output_type": "stream",
     "text": [
      "3\n"
     ]
    }
   ],
   "source": [
    "list_a = [1, 4, 6]\n",
    "do_dai = len(list_a)\n",
    "\n",
    "print(do_dai)"
   ]
  },
  {
   "cell_type": "code",
   "execution_count": 7,
   "id": "19b9531b",
   "metadata": {},
   "outputs": [
    {
     "name": "stdout",
     "output_type": "stream",
     "text": [
      "2\n"
     ]
    }
   ],
   "source": [
    "list_a = [1, 4, 6, 12, 6, 2]\n",
    "do_dai = len(list_a)\n",
    "phan_tu_cuoi_cung = list_a[do_dai - 1]\n",
    "print(phan_tu_cuoi_cung)"
   ]
  },
  {
   "cell_type": "code",
   "execution_count": 9,
   "id": "2ea95286",
   "metadata": {},
   "outputs": [
    {
     "name": "stdout",
     "output_type": "stream",
     "text": [
      "12\n"
     ]
    }
   ],
   "source": [
    "list_a = [1, 4, 6, 12, 6, 2]\n",
    "phan_tu_cuoi_cung = list_a[-3]\n",
    "print(phan_tu_cuoi_cung)"
   ]
  },
  {
   "cell_type": "code",
   "execution_count": 10,
   "id": "d0f19e43",
   "metadata": {},
   "outputs": [
    {
     "name": "stdout",
     "output_type": "stream",
     "text": [
      "h\n"
     ]
    }
   ],
   "source": [
    "chuoi = \"hello\"\n",
    "b = chuoi[0]\n",
    "print(b)"
   ]
  },
  {
   "cell_type": "code",
   "execution_count": 11,
   "id": "fd6a8eed",
   "metadata": {},
   "outputs": [
    {
     "name": "stdout",
     "output_type": "stream",
     "text": [
      "h\n"
     ]
    }
   ],
   "source": [
    "list_a = [\"hello\", \"xin\", \"chào\", \"các\", \"bạn\"]\n",
    "d = list_a[0][0]\n",
    "\n",
    "print(d)"
   ]
  },
  {
   "cell_type": "code",
   "execution_count": 12,
   "id": "2ed39a64",
   "metadata": {},
   "outputs": [
    {
     "name": "stdout",
     "output_type": "stream",
     "text": [
      "in\n"
     ]
    }
   ],
   "source": [
    "chuoi_a = \"xin chào\"\n",
    "chuoi_b = chuoi_a[1:3]\n",
    "print(chuoi_b)"
   ]
  },
  {
   "cell_type": "code",
   "execution_count": 13,
   "id": "ffcb42de",
   "metadata": {},
   "outputs": [
    {
     "name": "stdout",
     "output_type": "stream",
     "text": [
      "['xin', 'chào']\n"
     ]
    }
   ],
   "source": [
    "list_a = [\"hello\", \"xin\", \"chào\", \"các\", \"bạn\"]\n",
    "list_b = list_a[1:3]\n",
    "\n",
    "print(list_b)"
   ]
  },
  {
   "cell_type": "code",
   "execution_count": 16,
   "id": "d4739fc1",
   "metadata": {},
   "outputs": [
    {
     "name": "stdout",
     "output_type": "stream",
     "text": [
      "['hello', 'xin', 'chào']\n"
     ]
    }
   ],
   "source": [
    "list_a = [\"hello\", \"xin\", \"chào\", \"các\", \"bạn\"]\n",
    "list_b = list_a[:3]\n",
    "\n",
    "print(list_b)"
   ]
  },
  {
   "cell_type": "code",
   "execution_count": 17,
   "id": "4c776433",
   "metadata": {},
   "outputs": [
    {
     "name": "stdout",
     "output_type": "stream",
     "text": [
      "['xin', 'chào', 'các', 'bạn']\n"
     ]
    }
   ],
   "source": [
    "list_a = [\"hello\", \"xin\", \"chào\", \"các\", \"bạn\"]\n",
    "list_b = list_a[1:]\n",
    "\n",
    "print(list_b)"
   ]
  },
  {
   "cell_type": "code",
   "execution_count": 18,
   "id": "75803258",
   "metadata": {},
   "outputs": [
    {
     "name": "stdout",
     "output_type": "stream",
     "text": [
      "['hello', 'xin', 'chào', 'các', 'bạn']\n",
      "['hello', 'xin', 'chào', 'các', 'bạn']\n",
      "['hello', 'xin', 'chào', 'các', 'bạn']\n"
     ]
    }
   ],
   "source": [
    "list_a = [\"hello\", \"xin\", \"chào\", \"các\", \"bạn\"]\n",
    "list_b = list_a[:]\n",
    "list_c = list_a\n",
    "\n",
    "print(list_a)\n",
    "print(list_b)\n",
    "print(list_c)"
   ]
  },
  {
   "cell_type": "markdown",
   "id": "ad61e236",
   "metadata": {},
   "source": [
    "### Thêm phần tử vào List\n",
    "\n",
    "Cú pháp:\n",
    "\n",
    "<code>\\<tên list\\>.append()</code>\n",
    "\n",
    "<b>Ví dụ:</b>\n",
    "\n",
    "```\n",
    "a = []\n",
    "a.append(5)\n",
    "```\n",
    "\n",
    "a sẽ có 1 phần tử là 5\n",
    "\n",
    "<b> Hãy khai báo một list rỗng, rồi thêm 2 phần tử bất kỳ vào list đó, sau đó in list đó ra</b>"
   ]
  },
  {
   "cell_type": "code",
   "execution_count": 20,
   "id": "5823ddca",
   "metadata": {},
   "outputs": [
    {
     "name": "stdout",
     "output_type": "stream",
     "text": [
      "[1, 4, 6, 12, 6, 2, 7, 12]\n"
     ]
    }
   ],
   "source": [
    "list_a = [1, 4, 6, 12, 6, 2]\n",
    "\n",
    "list_a.append(7)\n",
    "list_a.append(12)\n",
    "print(list_a)"
   ]
  },
  {
   "cell_type": "code",
   "execution_count": 21,
   "id": "a46adf04",
   "metadata": {},
   "outputs": [
    {
     "name": "stdout",
     "output_type": "stream",
     "text": [
      "[7, 5, 1]\n"
     ]
    }
   ],
   "source": [
    "### cho list_a là list rỗng\n",
    "### nhập vào 3 số nguyên và lưu vào bên trong list_a\n",
    "### in list_a\n",
    "\n",
    "list_a = []\n",
    "\n",
    "for i in range(3):\n",
    "    a = int(input(\"Nhập số thứ \" + str(i)))\n",
    "    list_a.append(a)\n",
    "\n",
    "print(list_a)"
   ]
  },
  {
   "cell_type": "markdown",
   "id": "8c92d3d3",
   "metadata": {},
   "source": [
    "### Thay đổi giá trị của List\n",
    "\n",
    "Cú pháp:\n",
    "\n",
    "`<tên list>[<vị trí của phần tử>] = <giá trị mới>`\n",
    "\n",
    "<b> Hãy khai báo một list bất kỳ, rồi thay đổi 1 phần tử trong nó, sau đó in list đó ra</b>"
   ]
  },
  {
   "cell_type": "code",
   "execution_count": 22,
   "id": "13c61075",
   "metadata": {},
   "outputs": [
    {
     "name": "stdout",
     "output_type": "stream",
     "text": [
      "[1, 4, 7, 12, 6, 2]\n"
     ]
    }
   ],
   "source": [
    "list_a = [1, 4, 6, 12, 6, 2]\n",
    "\n",
    "list_a[2] = 7\n",
    "print(list_a)"
   ]
  },
  {
   "cell_type": "markdown",
   "id": "ce14eefe",
   "metadata": {},
   "source": [
    "### Xóa 1 phần tử trong list\n",
    "\n",
    "#### Lệnh remove()\n",
    "\n",
    "Cú pháp:\n",
    "\n",
    "`<tên list>.remove(<giá trị cần xóa>)`\n",
    "\n",
    "<b>Ví dụ:</b>\n",
    "\n",
    "```\n",
    "a = [\"hi\",3,\"hello\",4]\n",
    "a.remove(\"hi\")\n",
    "```\n",
    "\n",
    "Sau khi thực hiện lệnh trên, a chỉ còn [3,\"hello\",4]\n",
    "\n",
    "<b> Hãy khai báo một list bất kỳ, rồi xóa 1 phần tử trong nó bằng lệnh remove(), sau đó in list đó ra</b>"
   ]
  },
  {
   "cell_type": "code",
   "execution_count": 27,
   "id": "f79402ad",
   "metadata": {},
   "outputs": [
    {
     "ename": "ValueError",
     "evalue": "list.remove(x): x not in list",
     "output_type": "error",
     "traceback": [
      "\u001b[31m---------------------------------------------------------------------------\u001b[39m",
      "\u001b[31mValueError\u001b[39m                                Traceback (most recent call last)",
      "\u001b[36mCell\u001b[39m\u001b[36m \u001b[39m\u001b[32mIn[27]\u001b[39m\u001b[32m, line 6\u001b[39m\n\u001b[32m      4\u001b[39m list_a.remove(\u001b[32m4\u001b[39m)\n\u001b[32m      5\u001b[39m list_a.remove(\u001b[32m4\u001b[39m)\n\u001b[32m----> \u001b[39m\u001b[32m6\u001b[39m \u001b[43mlist_a\u001b[49m\u001b[43m.\u001b[49m\u001b[43mremove\u001b[49m\u001b[43m(\u001b[49m\u001b[32;43m4\u001b[39;49m\u001b[43m)\u001b[49m\n\u001b[32m      8\u001b[39m \u001b[38;5;28mprint\u001b[39m(list_a)\n",
      "\u001b[31mValueError\u001b[39m: list.remove(x): x not in list"
     ]
    }
   ],
   "source": [
    "list_a = [1, 4, 6, 12, 4, 4, 6, 2]\n",
    "\n",
    "list_a.remove(4)\n",
    "list_a.remove(4)\n",
    "list_a.remove(4)\n",
    "list_a.remove(4)\n",
    "\n",
    "print(list_a)"
   ]
  },
  {
   "cell_type": "code",
   "execution_count": 30,
   "id": "960c8f81",
   "metadata": {},
   "outputs": [
    {
     "name": "stdout",
     "output_type": "stream",
     "text": [
      "[1, 4, 6, 4, 4, 6, 2]\n"
     ]
    }
   ],
   "source": [
    "list_a = [1, 4, 6, 12, 4, 4, 6, 2]\n",
    "\n",
    "x = 12\n",
    "\n",
    "if x in list_a:\n",
    "    list_a.remove(x)\n",
    "\n",
    "print(list_a)"
   ]
  },
  {
   "cell_type": "code",
   "execution_count": null,
   "id": "9443cdfc",
   "metadata": {},
   "outputs": [],
   "source": [
    "list_a = [1, 4, 6, 12, 4, 4, 6, 2]\n",
    "x = 4\n",
    "for i in range(len(list_a)):\n",
    "    if x in list_a:\n",
    "        list_a.remove(x)"
   ]
  },
  {
   "cell_type": "code",
   "execution_count": null,
   "id": "0a174a33",
   "metadata": {},
   "outputs": [
    {
     "name": "stdout",
     "output_type": "stream",
     "text": [
      "[1, 6, 12, 6, 2]\n"
     ]
    }
   ],
   "source": [
    "list_a = [1, 4, 6, 12, 4, 4, 6, 2]\n",
    "\n",
    "### cho một list_a, hãy xoá toàn bộ số 4 bên trong list a\n",
    "x = 4\n",
    "\n",
    "while x in list_a:\n",
    "    list_a.remove(x)\n",
    "\n",
    "print(list_a)"
   ]
  },
  {
   "cell_type": "markdown",
   "id": "ec66c5cc",
   "metadata": {},
   "source": [
    "#### Lệnh pop()\n",
    "\n",
    "Cú pháp:\n",
    "\n",
    "`<tên list>.pop(<vị trí cần xóa>)`\n",
    "\n",
    "<b>Ví dụ:</b>\n",
    "\n",
    "```\n",
    "a = [\"hi\",3,\"hello\",4]\n",
    "a.pop(3)\n",
    "```\n",
    "\n",
    "Sau khi thực hiện lệnh trên, a chỉ còn [\"hi\",3,\"hello\"]\n",
    "\n",
    "<b> Hãy khai báo một list bất kỳ, rồi xóa 1 phần tử trong nó bằng lệnh pop(), sau đó in list đó ra</b>"
   ]
  },
  {
   "cell_type": "code",
   "execution_count": 35,
   "id": "eeaa0766",
   "metadata": {},
   "outputs": [
    {
     "name": "stdout",
     "output_type": "stream",
     "text": [
      "[1, 12, 4, 4, 6, 2]\n"
     ]
    }
   ],
   "source": [
    "list_a = [1, 4, 6, 12, 4, 4, 6, 2]\n",
    "\n",
    "list_a.pop(1)\n",
    "list_a.pop(1)\n",
    "\n",
    "print(list_a)"
   ]
  },
  {
   "cell_type": "code",
   "execution_count": 36,
   "id": "495ad723",
   "metadata": {},
   "outputs": [
    {
     "ename": "IndexError",
     "evalue": "pop index out of range",
     "output_type": "error",
     "traceback": [
      "\u001b[31m---------------------------------------------------------------------------\u001b[39m",
      "\u001b[31mIndexError\u001b[39m                                Traceback (most recent call last)",
      "\u001b[36mCell\u001b[39m\u001b[36m \u001b[39m\u001b[32mIn[36]\u001b[39m\u001b[32m, line 3\u001b[39m\n\u001b[32m      1\u001b[39m list_a = [\u001b[32m1\u001b[39m, \u001b[32m4\u001b[39m, \u001b[32m6\u001b[39m, \u001b[32m12\u001b[39m, \u001b[32m4\u001b[39m, \u001b[32m4\u001b[39m, \u001b[32m6\u001b[39m, \u001b[32m2\u001b[39m]\n\u001b[32m----> \u001b[39m\u001b[32m3\u001b[39m \u001b[43mlist_a\u001b[49m\u001b[43m.\u001b[49m\u001b[43mpop\u001b[49m\u001b[43m(\u001b[49m\u001b[32;43m8\u001b[39;49m\u001b[43m)\u001b[49m\n\u001b[32m      5\u001b[39m \u001b[38;5;28mprint\u001b[39m(list_a)\n",
      "\u001b[31mIndexError\u001b[39m: pop index out of range"
     ]
    }
   ],
   "source": [
    "list_a = [1, 4, 6, 12, 4, 4, 6, 2]\n",
    "\n",
    "list_a.pop(8)\n",
    "\n",
    "print(list_a)"
   ]
  },
  {
   "cell_type": "markdown",
   "id": "96daac1c",
   "metadata": {},
   "source": [
    "### Sao chép list\n",
    "\n",
    "###### Lưu ý: Nếu ta có list a, ta thực hiện lệnh b = a, list b sẽ bị ảnh hưởng khi list a có sự thay đổi\n",
    "\n",
    "<b> Ví dụ: </b>\n",
    "\n",
    "```\n",
    "a = [5,7,1]\n",
    "b = a\n",
    "a.remove(5)\n",
    "```\n",
    "\n",
    "Khi thực hiện 3 lệnh trên, b sẽ bằng [7,1], dù cho ta thực hiện lệnh `b = a` trước `a.remove(5)`\n",
    "\n",
    "<b> Kiểm chứng sự ảnh hưởng khi gán list </b>"
   ]
  },
  {
   "cell_type": "code",
   "execution_count": 38,
   "id": "1dbdf54b",
   "metadata": {},
   "outputs": [
    {
     "name": "stdout",
     "output_type": "stream",
     "text": [
      "[12, 13, 15, 20]\n"
     ]
    }
   ],
   "source": [
    "list_a = [12, 13, 15]\n",
    "list_a.append(20)\n",
    "print(list_a)"
   ]
  },
  {
   "cell_type": "code",
   "execution_count": 39,
   "id": "3bbbdde3",
   "metadata": {},
   "outputs": [
    {
     "name": "stdout",
     "output_type": "stream",
     "text": [
      "[12, 13, 15, 20]\n"
     ]
    }
   ],
   "source": [
    "list_a = [12, 13, 15]\n",
    "list_a = [12, 13, 15, 20]\n",
    "print(list_a)"
   ]
  },
  {
   "cell_type": "code",
   "execution_count": 43,
   "id": "362af608",
   "metadata": {},
   "outputs": [
    {
     "name": "stdout",
     "output_type": "stream",
     "text": [
      "[12, 15, 20]\n",
      "[12, 13, 15, 20, 35]\n"
     ]
    }
   ],
   "source": [
    "list_a = [12, 13, 15]\n",
    "list_b = list_a\n",
    "\n",
    "list_a.append(20)\n",
    "list_b.append(35)\n",
    "\n",
    "list_a = [12, 15]\n",
    "list_a.append(20)\n",
    "\n",
    "print(list_a)\n",
    "print(list_b)"
   ]
  },
  {
   "cell_type": "code",
   "execution_count": 44,
   "id": "bb1603fe",
   "metadata": {},
   "outputs": [
    {
     "name": "stdout",
     "output_type": "stream",
     "text": [
      "[12, 5, 15]\n",
      "[12, 5, 15]\n"
     ]
    }
   ],
   "source": [
    "list_a = [12, 13, 15]\n",
    "list_b = list_a\n",
    "\n",
    "list_a[1] = 5\n",
    "\n",
    "print(list_a)\n",
    "print(list_b)"
   ]
  },
  {
   "cell_type": "code",
   "execution_count": null,
   "id": "3ab7a133",
   "metadata": {},
   "outputs": [],
   "source": []
  },
  {
   "cell_type": "markdown",
   "id": "c9c51aad",
   "metadata": {},
   "source": [
    "### Lệnh copy()\n",
    "\n",
    "Cú pháp:\n",
    "\n",
    "`<tên list>.copy()`\n",
    "\n",
    "##### Dùng lệnh copy sẽ khắc phục được vấn đề gán list a cho b\n",
    "\n",
    "<b> Ví dụ: </b>\n",
    "\n",
    "```\n",
    "a = [5,7,1]\n",
    "b = a.copy()\n",
    "a.remove(5)\n",
    "```\n",
    "\n",
    "Khi thực hiện 3 lệnh trên, b vẫn sẽ bằng [5,7,1]\n",
    "\n",
    "Lúc này, b sẽ là một list mới độc lập hoàn toàn với a\n",
    "\n",
    "<b> Khai báo list a, dùng lệnh copy cho list b, rồi thêm phần tử vào list a, sau đó in cả 2 list lên màn hình</b>"
   ]
  },
  {
   "cell_type": "code",
   "execution_count": 45,
   "id": "46759662",
   "metadata": {},
   "outputs": [
    {
     "name": "stdout",
     "output_type": "stream",
     "text": [
      "[12, 13, 15, 20]\n",
      "[12, 15]\n"
     ]
    }
   ],
   "source": [
    "list_a = [12, 13, 15]\n",
    "list_b = list_a.copy()\n",
    "\n",
    "list_a.append(20)\n",
    "list_b.remove(13)\n",
    "\n",
    "print(list_a)\n",
    "print(list_b)"
   ]
  },
  {
   "cell_type": "code",
   "execution_count": 48,
   "id": "eddc503d",
   "metadata": {},
   "outputs": [
    {
     "name": "stdout",
     "output_type": "stream",
     "text": [
      "[12, 13, 15, 20]\n",
      "[12, 15]\n"
     ]
    }
   ],
   "source": [
    "list_a = [12, 13, 15]\n",
    "list_b = list_a[:]\n",
    "\n",
    "list_a.append(20)\n",
    "list_b.remove(13)\n",
    "\n",
    "print(list_a)\n",
    "print(list_b)"
   ]
  },
  {
   "cell_type": "markdown",
   "id": "d8f470e0",
   "metadata": {},
   "source": [
    "### Lệnh len()\n",
    "\n",
    "Tương tự như chuỗi, ta có thể dùng lệnh len cho list để trả về số lượng của list\n",
    "\n",
    "<b> Ví dụ:</b>\n",
    "\n",
    "```\n",
    "a = [3,\"Hello\",5,\"hi\"]\n",
    "b = len(a)\n",
    "```\n",
    "\n",
    "Giá trị của b là 4\n",
    "\n",
    "<b> Khai báo list a, in lên độ dài của list a </b>"
   ]
  },
  {
   "cell_type": "code",
   "execution_count": null,
   "id": "dfbcf0db",
   "metadata": {},
   "outputs": [
    {
     "name": "stdout",
     "output_type": "stream",
     "text": [
      "4\n"
     ]
    }
   ],
   "source": []
  },
  {
   "cell_type": "markdown",
   "id": "8ac29b78",
   "metadata": {},
   "source": [
    "### Duyệt list bằng lệnh for\n",
    "\n",
    "<b> Duyệt list với vị trí </b>"
   ]
  },
  {
   "cell_type": "code",
   "execution_count": 50,
   "id": "1be33622",
   "metadata": {},
   "outputs": [
    {
     "name": "stdout",
     "output_type": "stream",
     "text": [
      "12\n",
      "13\n",
      "15\n",
      "20\n"
     ]
    }
   ],
   "source": [
    "list_a = [12, 13, 15, 20]\n",
    "\n",
    "for i in range(len(list_a)):\n",
    "    print(list_a[i])"
   ]
  },
  {
   "cell_type": "code",
   "execution_count": 51,
   "id": "9c8cb2ee",
   "metadata": {},
   "outputs": [
    {
     "name": "stdout",
     "output_type": "stream",
     "text": [
      "12\n",
      "13\n",
      "15\n",
      "20\n"
     ]
    }
   ],
   "source": [
    "list_a = [12, 13, 15, 20]\n",
    "\n",
    "for i in list_a:\n",
    "    print(i)"
   ]
  },
  {
   "cell_type": "markdown",
   "id": "53b6e6eb",
   "metadata": {},
   "source": [
    "<b> Duyệt list với giá trị từng phần tử</b>"
   ]
  },
  {
   "cell_type": "code",
   "execution_count": null,
   "id": "cdf22aa3",
   "metadata": {},
   "outputs": [
    {
     "name": "stdout",
     "output_type": "stream",
     "text": [
      "10\n",
      "15\n",
      "20\n"
     ]
    }
   ],
   "source": []
  },
  {
   "cell_type": "markdown",
   "id": "3fcda853",
   "metadata": {},
   "source": [
    "### Bài tập"
   ]
  },
  {
   "cell_type": "markdown",
   "id": "72d9a5fa",
   "metadata": {},
   "source": [
    "Nhập vào một dãy số nguyên dương (ngưng nhập nếu người dùng nhập -1)\n",
    "\n",
    "Sau khi nhập hãy:\n",
    "- In ra số lớn nhất trong dãy\n",
    "- In ra số bé nhất trong dãy\n",
    "- In ra dãy số nguyên tố tìm được trong dãy vừa nhập"
   ]
  },
  {
   "cell_type": "code",
   "execution_count": 54,
   "id": "38805cc0",
   "metadata": {},
   "outputs": [
    {
     "name": "stdout",
     "output_type": "stream",
     "text": [
      "[6, 4, 6, 20]\n"
     ]
    }
   ],
   "source": [
    "list_a = []\n",
    "while True:\n",
    "    n = int(input(\" \"))\n",
    "    if n == -1:\n",
    "        break\n",
    "    if n > 0:\n",
    "        list_a.append(n)\n",
    "\n",
    "print(list_a)"
   ]
  },
  {
   "cell_type": "code",
   "execution_count": null,
   "id": "39d03f02",
   "metadata": {},
   "outputs": [],
   "source": [
    "a = 7\n",
    "b = 10\n",
    "c = 8\n",
    "\n",
    "so_lon_nhat = a\n",
    "if so_lon_nhat < b:\n",
    "    so_lon_nhat = b\n",
    "if so_lon_nhat < c:\n",
    "    so_lon_nhat = c\n",
    "\n",
    "print(so_lon_nhat)"
   ]
  },
  {
   "cell_type": "code",
   "execution_count": 3,
   "id": "bf574795",
   "metadata": {},
   "outputs": [
    {
     "name": "stdout",
     "output_type": "stream",
     "text": [
      "Số lớn nhất: 20\n",
      "Số nhỏ nhất: 2\n",
      "Số nguyên tố: [7, 2, 5, 13]\n"
     ]
    }
   ],
   "source": [
    "list_a = [6, 7, 10, 2, 5, 6, 20, 13]\n",
    "\n",
    "def so_nguyen_to(n):\n",
    "    if n < 2:\n",
    "        return False\n",
    "    for i in range(2, int(n//2) + 1):\n",
    "        if n % i == 0:\n",
    "            return False\n",
    "    return True\n",
    "\n",
    "so_lon_nhat = list_a[0]\n",
    "so_nho_nhat = list_a[0]\n",
    "\n",
    "list_so_nguyen_to = []\n",
    "\n",
    "for so in list_a:\n",
    "    if so_lon_nhat < so:\n",
    "        so_lon_nhat = so\n",
    "    if so_nho_nhat > so:\n",
    "        so_nho_nhat = so\n",
    "    if so_nguyen_to(so):\n",
    "        list_so_nguyen_to.append(so)\n",
    "\n",
    "print(\"Số lớn nhất:\", so_lon_nhat)\n",
    "print(\"Số nhỏ nhất:\", so_nho_nhat)\n",
    "print(\"Số nguyên tố:\", list_so_nguyen_to)"
   ]
  },
  {
   "cell_type": "markdown",
   "id": "f493bb3e",
   "metadata": {},
   "source": [
    "Viết hàm với dữ liệu đầu vào bao gồm 3 tham số: list, a, b. Hàm này có công dụng tìm số lớn nhất trong đoạn từ vị trí a đến vị trí b trong list."
   ]
  },
  {
   "cell_type": "code",
   "execution_count": null,
   "id": "a730c2f8",
   "metadata": {},
   "outputs": [
    {
     "name": "stdout",
     "output_type": "stream",
     "text": [
      "-1\n"
     ]
    }
   ],
   "source": [
    "def tim_max(list_so, a, b):\n",
    "    if a < 0 or b >= len(list_so) or a > b:\n",
    "        return None\n",
    "    \n",
    "    so_lon_nhat = list_so[a]\n",
    "    for i in range(a+1, b+1):\n",
    "        if so_lon_nhat < list_so[i]:\n",
    "            so_lon_nhat = list_so[i]\n",
    "    return so_lon_nhat\n",
    "\n",
    "print(tim_max([100, 7, 8, 10, 20], 1, 3))"
   ]
  },
  {
   "cell_type": "markdown",
   "id": "87acccb8",
   "metadata": {},
   "source": [
    "Viết hàm có tham số đầu vào là list, giá trị trả về là số lượng số nguyên tố bé hơn 100 trong list"
   ]
  },
  {
   "cell_type": "code",
   "execution_count": 4,
   "id": "c605991d",
   "metadata": {},
   "outputs": [
    {
     "data": {
      "text/plain": [
       "3"
      ]
     },
     "execution_count": 4,
     "metadata": {},
     "output_type": "execute_result"
    }
   ],
   "source": [
    "def so_nguyen_to(n):\n",
    "    if n < 2:\n",
    "        return False\n",
    "    for i in range(2, int(n**0.5) +1):\n",
    "        if n % i == 0:\n",
    "            return False\n",
    "    return True\n",
    "\n",
    "def tong_so_nguyen_to(list_a):\n",
    "    dem = 0\n",
    "    for i in list_a:\n",
    "        if so_nguyen_to(i):\n",
    "            dem += 1\n",
    "    return dem\n",
    "\n",
    "tong_so_nguyen_to([1,2,3,4,456,6,7,8,100,111])"
   ]
  },
  {
   "cell_type": "markdown",
   "id": "13840ec8",
   "metadata": {},
   "source": [
    "Viết hàm tìm giá trị dương đầu tiên của list, nếu không có giá trị dương trả về -1"
   ]
  },
  {
   "cell_type": "code",
   "execution_count": 5,
   "id": "d7ffb2b7",
   "metadata": {},
   "outputs": [
    {
     "name": "stdout",
     "output_type": "stream",
     "text": [
      "-1\n",
      "10\n",
      "1\n"
     ]
    }
   ],
   "source": [
    "def tim_gia_tri_duong(list_a):\n",
    "    for so in list_a:\n",
    "        if so > 0:\n",
    "            return so\n",
    "        \n",
    "    return -1\n",
    "\n",
    "print(tim_gia_tri_duong([-7, -2, -3, -7, -10])) # -1\n",
    "print(tim_gia_tri_duong([-7, -2, 10, -7, -10])) # 10\n",
    "print(tim_gia_tri_duong([-7, 1, 10, -7, -10])) # 1"
   ]
  },
  {
   "cell_type": "markdown",
   "id": "0f71c71e",
   "metadata": {},
   "source": [
    "Viết hàm có 2 giá trị đầu vào là list và x. Tìm giá trị trong list xa x nhất"
   ]
  },
  {
   "cell_type": "code",
   "execution_count": 7,
   "id": "03ef7d4c",
   "metadata": {},
   "outputs": [
    {
     "name": "stdout",
     "output_type": "stream",
     "text": [
      "-20\n",
      "100\n"
     ]
    }
   ],
   "source": [
    "def tim_gia_tri(danh_sach, x):\n",
    "    if not danh_sach:\n",
    "        return None\n",
    "    \n",
    "    gia_tri_xa_nhat = danh_sach[0]\n",
    "    khoang_cach_lon_nhat = abs(danh_sach[0] - x)\n",
    "    \n",
    "    for so in danh_sach:\n",
    "        khoang_cach = abs(so - x)\n",
    "        if khoang_cach > khoang_cach_lon_nhat:\n",
    "            khoang_cach_lon_nhat = khoang_cach\n",
    "            gia_tri_xa_nhat = so\n",
    "            \n",
    "    return gia_tri_xa_nhat\n",
    "\n",
    "print(tim_gia_tri([1, 2, 3, -20, 10, 100], 90)) # -20\n",
    "print(tim_gia_tri([1, 2, 3, -20, 10, 100], 10)) # 100"
   ]
  },
  {
   "cell_type": "markdown",
   "id": "3b634d0f",
   "metadata": {},
   "source": [
    "Một người dùng số tiền là U đô-la và V Euro để mua một loại nguyên liệu sản xuất. \n",
    "\n",
    "Có N công ty nước ngoài bán nguyên liệu trên được đánh số từ 1 đến N. Công ty thứ i có giá bán Ai đô la/1 kg nguyên liệu và Bi Euro/1 kg nguyên liệu. \n",
    "\n",
    "Tuy nhiên, tại mỗi công ty chỉ bán nguyên liệu cho một khách hàng hoặc theo đô-la, hoặc theo Euro. \n",
    "\n",
    "Hãy giúp người đó tìm cách chọn ra 2 công ty để mua hàng sao cho số lượng nguyên liệu sản xuất có thể mua được là nhiều nhất.\n",
    "\n",
    "Nhập vào: Từ bàn phím 3 số theo thứ tự : N U V (1 ≤ N ≤ 20; 1 ≤ U, V ≤ 1000) và N cặp số nguyên Ai, Bi (1 < Ai, Bi < 1000) (nhập lần lượng A1, B1 rồi A2, B2)\n",
    "\n",
    "In ra : Số lượng nguyên liệu S(kg) người đó mua được với 2 chữ số thập phân."
   ]
  },
  {
   "cell_type": "code",
   "execution_count": 13,
   "id": "67a95f01",
   "metadata": {},
   "outputs": [
    {
     "name": "stdout",
     "output_type": "stream",
     "text": [
      "300.0\n"
     ]
    }
   ],
   "source": [
    "N = 3\n",
    "U = 1000\n",
    "V = 1000\n",
    "\n",
    "list_dollar = [100, 20, 70]\n",
    "list_euro = [90, 5, 4]\n",
    "\n",
    "S_max = 0\n",
    "for i in range(len(list_dollar)):\n",
    "    for j in range(len(list_euro)):\n",
    "        if i == j:\n",
    "            continue\n",
    "        \n",
    "        S = U/list_dollar[i] + V/list_euro[j]\n",
    "        if S > S_max:\n",
    "            S_max = S\n",
    "\n",
    "print(S_max)"
   ]
  },
  {
   "cell_type": "code",
   "execution_count": 14,
   "id": "677abefe",
   "metadata": {},
   "outputs": [
    {
     "name": "stdout",
     "output_type": "stream",
     "text": [
      "300.0\n"
     ]
    }
   ],
   "source": [
    "N = 3\n",
    "U = 1000\n",
    "V = 1000\n",
    "\n",
    "list_dollar = [100, 20, 70]\n",
    "list_euro = [90, 5, 4]\n",
    "\n",
    "## B1: tìm giá rẻ nhất theo dollar và cả euro (tìm công ty nào bán rẻ nhất)\n",
    "## B2: nếu vị trí công ty tìm được theo 2 loại đồng là khác nhau (thuộc 2 công ty khác nhau)\n",
    "#### Tính S và in ra ~~> S = U/gia_dollar_re_nhat + V/gia_euro_re_nhat\n",
    "## B3: nếu vị trí công ty tìm được theo 2 loại đồng là giống nhau (thuộc 1 công ty)\n",
    "## B4: Tìm công ty rẻ nhì theo cả 2 loại đồng\n",
    "## B5: Tính chéo 2 trường hợp:\n",
    "#### rẻ nhất dollar + rẻ nhì euro\n",
    "#### rẻ nhất euro + rẻ nhì dollar\n",
    "#### tìm ra trường hợp có S cao hơn\n",
    "\n",
    "def tim_vi_tri_min(list_a):\n",
    "    ket_qua = 0\n",
    "    for i in range(len(list_a)):\n",
    "        if list_a[i] < list_a[ket_qua]:\n",
    "            ket_qua = i\n",
    "    return ket_qua\n",
    "\n",
    "vi_tri_gia_re_nhat_dollar = tim_vi_tri_min(list_dollar)\n",
    "vi_tri_gia_re_nhat_euro = tim_vi_tri_min(list_euro)\n",
    "gia_re_nhat_dollar = list_dollar[vi_tri_gia_re_nhat_dollar]\n",
    "gia_re_nhat_euro = list_euro[vi_tri_gia_re_nhat_euro]\n",
    "\n",
    "if vi_tri_gia_re_nhat_dollar != vi_tri_gia_re_nhat_euro:\n",
    "    S = U/gia_re_nhat_dollar + V/gia_re_nhat_euro\n",
    "    print(S)\n",
    "else:\n",
    "    list_dollar.pop(vi_tri_gia_re_nhat_dollar)\n",
    "    list_euro.pop(vi_tri_gia_re_nhat_euro)\n",
    "    vi_tri_gia_re_nhi_dollar = tim_vi_tri_min(list_dollar)\n",
    "    vi_tri_gia_re_nhi_euro = tim_vi_tri_min(list_euro)\n",
    "\n",
    "    gia_re_nhi_dollar = list_dollar[vi_tri_gia_re_nhi_dollar]\n",
    "    gia_re_nhi_euro = list_euro[vi_tri_gia_re_nhi_euro]\n",
    "\n",
    "    S1 = U/gia_re_nhat_dollar + V/gia_re_nhi_euro\n",
    "    S2 = U/gia_re_nhi_dollar + V/gia_re_nhat_euro\n",
    "    if S1 > S2:\n",
    "        S = S1\n",
    "    else:\n",
    "        S = S2\n",
    "    print(S)"
   ]
  }
 ],
 "metadata": {
  "kernelspec": {
   "display_name": "linhtinh",
   "language": "python",
   "name": "python3"
  },
  "language_info": {
   "codemirror_mode": {
    "name": "ipython",
    "version": 3
   },
   "file_extension": ".py",
   "mimetype": "text/x-python",
   "name": "python",
   "nbconvert_exporter": "python",
   "pygments_lexer": "ipython3",
   "version": "3.12.11"
  }
 },
 "nbformat": 4,
 "nbformat_minor": 5
}
