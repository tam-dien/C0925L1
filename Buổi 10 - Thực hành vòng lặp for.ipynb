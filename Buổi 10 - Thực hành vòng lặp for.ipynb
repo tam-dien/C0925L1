{
 "cells": [
  {
   "cell_type": "markdown",
   "id": "83131812",
   "metadata": {},
   "source": [
    "#  Thực hành vòng lặp for\n",
    "\n",
    "### Bài 1\n",
    "\n",
    "Nhập vào một số số, in ra bảng cửa chương của số đó"
   ]
  },
  {
   "cell_type": "code",
   "execution_count": 5,
   "id": "a43ecdcd",
   "metadata": {},
   "outputs": [
    {
     "name": "stdout",
     "output_type": "stream",
     "text": [
      "Bảng cửu chương 7 là:\n",
      "7 x 1 = 7\n",
      "7 x 2 = 14\n",
      "7 x 3 = 21\n",
      "7 x 4 = 28\n",
      "7 x 5 = 35\n",
      "7 x 6 = 42\n",
      "7 x 7 = 49\n",
      "7 x 8 = 56\n",
      "7 x 9 = 63\n",
      "7 x 10 = 70\n"
     ]
    }
   ],
   "source": [
    "n = int(input(\"Nhập một số đi: \"))\n",
    "\n",
    "print(\"Bảng cửu chương\", n, \"là:\")\n",
    "for i in range (1, 11):\n",
    "    print(n, \"x\", i, \"=\", n * i )"
   ]
  },
  {
   "cell_type": "code",
   "execution_count": 4,
   "id": "16a9266d",
   "metadata": {},
   "outputs": [
    {
     "name": "stdout",
     "output_type": "stream",
     "text": [
      "(0, 4, 8, 12, 16, 20, 24, 28, 32, 36, 40, 44, 48, 52, 56, 60, 64, 68, 72, 76, 80, 84, 88, 92, 96)\n"
     ]
    }
   ],
   "source": [
    "print(tuple(range(0, 100, 4)))"
   ]
  },
  {
   "cell_type": "code",
   "execution_count": null,
   "id": "778a2671",
   "metadata": {},
   "outputs": [],
   "source": [
    "### 2 lượt đổi\n",
    "##### dùng 1 lượt đổi để đổi 2 chữ số cuối cùng thành số chia hết cho 4\n",
    "\n",
    "######## giả thử thầy có 86 ~~> 80 16\n",
    "##### gọi 2 chuỗi là ab\n",
    "##### nếu ab là số lẻ ~~> chuyển b thành chẵn để ab chia hết cho 4\n",
    "##### nếu ab là số chẵn ~~> chuyển a thành 1 số nào đó mà ab chia hết cho 4\n",
    "\n",
    "\n",
    "###### 523426 ~~> 123416\n",
    "###### 523420 ~~> 103420\n",
    "###### 123420 ~~> 100420\n",
    "###### 103420 ~~> 100020\n",
    "###### 100420 ~~> 100000"
   ]
  },
  {
   "cell_type": "markdown",
   "id": "0a8ffc55",
   "metadata": {},
   "source": [
    "### Bài 2\n",
    "\n",
    "Nhập vào một câu nói (mỗi từ cách nhau một khoảng trắng, không có dấu phẩy, chấm), hãy tách từng từ trong chuỗi ra rồi in lên màn hình. Mỗi từ in kèm với độ dài cửa từ đó\n",
    "\n",
    "Ví dụ:\n",
    "\n",
    "Nhập: Xin chào\n",
    "\n",
    "In:\n",
    "\n",
    "Xin 3\n",
    "\n",
    "Chào 4"
   ]
  },
  {
   "cell_type": "code",
   "execution_count": 9,
   "id": "3549d53a",
   "metadata": {},
   "outputs": [
    {
     "name": "stdout",
     "output_type": "stream",
     "text": [
      "xin chào các bạn\n",
      "xin 3\n",
      "chào 4\n",
      "các 3\n",
      "bạn 3\n"
     ]
    }
   ],
   "source": [
    "chuoi = input(\"Nhập vào chuỗi:\")\n",
    "\n",
    "### \"Xin chào các bạn\"\n",
    "print(chuoi)\n",
    "\n",
    "chuoi += \" \"\n",
    "tu = \"\"\n",
    "for ky_tu in chuoi:\n",
    "    if ky_tu != \" \":\n",
    "        tu += ky_tu\n",
    "    else:\n",
    "        print(tu, len(tu))\n",
    "        tu = \"\""
   ]
  },
  {
   "cell_type": "markdown",
   "id": "8462cc76",
   "metadata": {},
   "source": [
    "### Bài 3\n",
    "\n",
    "Nhập vào một chuỗi có 2 số nguyên, mỗi số cách nhau một dấu phẩy, hãy tính tổng của hai số đó\n",
    "\n",
    "Ví dụ:\n",
    "\n",
    "Nhập: 2,3\n",
    "In: 5"
   ]
  },
  {
   "cell_type": "code",
   "execution_count": 12,
   "id": "692e3585",
   "metadata": {},
   "outputs": [
    {
     "name": "stdout",
     "output_type": "stream",
     "text": [
      "25,30\n",
      "55\n"
     ]
    }
   ],
   "source": [
    "chuoi = input(\"Nhập vào chuỗi:\")\n",
    "\n",
    "### \"Xin chào các bạn\"\n",
    "print(chuoi)\n",
    "\n",
    "chuoi += \",\"\n",
    "tong = 0\n",
    "so = \"\"\n",
    "for ky_tu in chuoi:\n",
    "    if ky_tu != \",\":\n",
    "        so += ky_tu\n",
    "    else:\n",
    "        tong += int(so)\n",
    "        so = \"\"\n",
    "\n",
    "print(tong)"
   ]
  },
  {
   "cell_type": "markdown",
   "id": "040a87d1",
   "metadata": {},
   "source": [
    "### Bài 4\n",
    "\n",
    "Nhập vào một chuỗi, hãy tách toàn bộ số trong chuỗi và tính tổng của chuỗi đó (chuỗi chỉ có số nguyên dương)"
   ]
  },
  {
   "cell_type": "code",
   "execution_count": null,
   "id": "ce5aa114",
   "metadata": {},
   "outputs": [],
   "source": [
    "### fdlkafjkdla34948dkjsadjs@232323sdasds"
   ]
  },
  {
   "cell_type": "markdown",
   "id": "2171e7dc",
   "metadata": {},
   "source": [
    "### Bài 6\n",
    "\n",
    "Cần có tổng 200.000đ từ 3 loại giấy bạc 1000đ, 2000đ, và 5000đ. Lập \n",
    "chương tình để tìm tất cả các phương án có thể."
   ]
  },
  {
   "cell_type": "code",
   "execution_count": null,
   "id": "a81d94b3",
   "metadata": {},
   "outputs": [],
   "source": []
  },
  {
   "cell_type": "markdown",
   "id": "b120507c",
   "metadata": {},
   "source": [
    "### **** Câu 3 đề thi học sinh giỏi thành phố Hà Nội lớp 9 năm 2008 ****\n",
    "\n",
    "Trong trò chơi đổi số, một cặp số nguyên dương (x, y) có thể đổi lấy một cặp số mới trong có cặp số (x + y, y), (y, x) hoặc (x-y, y) nếu x-y cũng là số nguyên dương.\n",
    "\n",
    "Cho trước 4 số nguyên dương a, b, c và d. Người chơi cần tìm cách đổi từ cặp số (a, b)\n",
    "thành cặp số (c, d).\n",
    "\n",
    "<b>Nhập từ bàn phím:</b> 4 số nguyên dương a, b, c và d không vượt qua 1000.\n",
    "\n",
    "<b>Xuất ra màn hình:</b> số k là số lượng số lần đổi số ít nhất từ cặp số (a, b) nhận được cặp số (c, d). Nếu không tìm được cách đổi số thì xuất K = -1.\n",
    "\n",
    "Ví dụ: Với a= 14, b = 35, c= 28 và d = 21 thi K = 7. \n",
    "\n",
    "Quá trình đổi số có thể thực hiện như sau:\n",
    "\n",
    "Từ cặp số (14,35) ta lần lượt đổi thành các cặp sô (35, 14), (21, 14), (7, 14), (14, 7), (21,7), (7,21) và cuối cùng nhân được cặp số (28,21)."
   ]
  },
  {
   "cell_type": "code",
   "execution_count": null,
   "id": "8071e75b",
   "metadata": {},
   "outputs": [],
   "source": [
    "# từ (a, b) ~~> (c, d)\n",
    "### (17, 18) ~~> (2, 4)\n",
    "### (17, 18) ~~> (15, 17)\n",
    "\n",
    "### gọi k là UCLN của cả a, b và c, d\n",
    "##### (a, b) ~~> (a1, b1) ~~> (k, k)\n",
    "##### (c, d) ~~> (c1, d1) ~~> (k, k)"
   ]
  },
  {
   "cell_type": "code",
   "execution_count": null,
   "id": "697c70c2",
   "metadata": {},
   "outputs": [],
   "source": [
    "### x, y ~~> (x + y, y) | (x - y, y) | (y, x)\n",
    "\n",
    "#### 14 35 <~~> 35 14 <~~> 21 14 <~~> 7 14 <~~> 14 7 <~~> 7 7\n",
    "#### 28 21 <~~> 7 21 <~~> 21 7 <~~> 14 7 <~~> 7 7"
   ]
  }
 ],
 "metadata": {
  "kernelspec": {
   "display_name": "linhtinh",
   "language": "python",
   "name": "python3"
  },
  "language_info": {
   "codemirror_mode": {
    "name": "ipython",
    "version": 3
   },
   "file_extension": ".py",
   "mimetype": "text/x-python",
   "name": "python",
   "nbconvert_exporter": "python",
   "pygments_lexer": "ipython3",
   "version": "3.12.11"
  }
 },
 "nbformat": 4,
 "nbformat_minor": 5
}
